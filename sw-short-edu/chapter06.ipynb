{
 "cells": [
  {
   "cell_type": "markdown",
   "metadata": {},
   "source": [
    "# Chapter 06 그래프 함수로 시각화하기"
   ]
  },
  {
   "cell_type": "markdown",
   "metadata": {},
   "source": [
    "## 6.1 matplotlib으로 그래프 그리기 "
   ]
  },
  {
   "cell_type": "markdown",
   "metadata": {},
   "source": [
    "### matplotlib 패키지 설치하고 모듈 불러오기"
   ]
  },
  {
   "cell_type": "code",
   "execution_count": null,
   "metadata": {},
   "outputs": [],
   "source": [
    "# matplotlib 패키지 설치하기\n"
   ]
  },
  {
   "cell_type": "code",
   "execution_count": null,
   "metadata": {},
   "outputs": [],
   "source": [
    "# matplotlib 하위에 있는 pyplot을 plt라는 이름으로 불러오기\n"
   ]
  },
  {
   "cell_type": "markdown",
   "metadata": {},
   "source": [
    "### matplotlib 에서 한글 깨짐 처리 방법"
   ]
  },
  {
   "cell_type": "code",
   "execution_count": null,
   "metadata": {},
   "outputs": [],
   "source": [
    "import pandas as pd\n",
    "\n",
    "# matplotlib 패키지 한글 깨짐 처리\n",
    "import matplotlib.pyplot as plt\n",
    "import platform\n",
    "if platform.system() == 'Darwin':\t\t\t\t\t\t#맥\n",
    "    plt.rc('font', family='AppleGothic') \n",
    "elif platform.system() == 'Windows':\t\t\t\t\t#윈도우\n",
    "    #plt.rcParams[\"font.family\"] = \"Malgun Gothic\"\n",
    "    plt.rc('font', family='Malgun Gothic') \n",
    "elif platform.system() == 'Linux':\t\t\t\t\t\t#리눅스 (구글 코랩)\n",
    "    #!wget \"https://www.wfonts.com/download/data/2016/06/13/malgun-gothic/malgun.ttf\"\n",
    "    #!mv malgun.ttf /usr/share/fonts/truetype/\n",
    "    #import matplotlib.font_manager as fm \n",
    "    #fm._rebuild() \n",
    "    plt.rc('font', family='Malgun Gothic') \n",
    "\n",
    "plt.rcParams['axes.unicode_minus'] = False\t\t\t# 그래프에서 마이너스 기호가 깨질 때"
   ]
  },
  {
   "cell_type": "code",
   "execution_count": null,
   "metadata": {},
   "outputs": [],
   "source": [
    "#rcParams 딕셔너리 내용보기\n",
    "print(plt.rcParams)"
   ]
  },
  {
   "cell_type": "markdown",
   "metadata": {},
   "source": [
    "### 선 그래프(plot)  그리기"
   ]
  },
  {
   "cell_type": "code",
   "execution_count": null,
   "metadata": {
    "scrolled": true
   },
   "outputs": [],
   "source": [
    "# 선 그래프 그리기\n",
    "height = [155, 160, 163, 167, 170, 174, 178, 182, 186, 190]\t\t# 키 데이터\n",
    "weight = [44, 46, 48, 50, 57, 62, 70, 74, 79, 82]\t\t\t\t# 몸무게 데이터\n",
    "# 제목\n",
    "# x축 제목\n",
    "# y축 제목\n",
    "# 선 그래프 그리기, 컬러 적색, 선 두께 3\n",
    "# 그래프 출력"
   ]
  },
  {
   "cell_type": "markdown",
   "metadata": {},
   "source": [
    "### 선 종류 지정하기 : linestyle"
   ]
  },
  {
   "cell_type": "code",
   "execution_count": null,
   "metadata": {},
   "outputs": [],
   "source": [
    "# 실선(line)\n",
    "# 파선(dash)\n",
    "# 쇄선(dashdot)\n",
    "# 점선(dot)"
   ]
  },
  {
   "cell_type": "markdown",
   "metadata": {},
   "source": [
    "### 산점도(scatter) 그래프\n",
    "- **marker = 사각형(s) / 삼각형(^) / 엑스(x) / 원(o) / 별표(*)**"
   ]
  },
  {
   "cell_type": "code",
   "execution_count": null,
   "metadata": {
    "scrolled": true
   },
   "outputs": [],
   "source": [
    "# 산점도 그리기\n",
    "height = [155, 160, 163, 167, 170, 174, 178, 182, 186, 190]\t\t# 키 데이터\n",
    "weight = [44, 46, 48, 50, 57, 62, 70, 74, 79, 82]\t\t\t\t# 몸무게 데이터\n",
    "plt.title(\"스캐터 플랏\")\n",
    "plt.xlabel(\"몸무게\")\n",
    "plt.ylabel(\"키\")\n",
    "# 스캐터 플랏 그리기\n",
    "\n",
    "plt.show()"
   ]
  },
  {
   "cell_type": "code",
   "execution_count": null,
   "metadata": {},
   "outputs": [],
   "source": [
    "# 산점도와 선 그래프 함께 그리기\n",
    "height = [155, 160, 163, 167, 170, 174, 178, 182, 186, 190]\t\t# 키 데이터\n",
    "weight= [44, 46, 48, 50, 57, 62, 70, 74, 79, 82]\t\t\t\t# 몸무게 데이터\n",
    "plt.title(\"선 그래프\")\n",
    "plt.xlabel(\"몸무게\")\n",
    "plt.ylabel(\"키\")\n",
    "# 선 그래프, 청색, 선 두께 1\n",
    "\n",
    "# 산점도, 적색, 크기 100\n",
    "\n",
    "plt.show()"
   ]
  },
  {
   "cell_type": "markdown",
   "metadata": {},
   "source": [
    "### 막대(bar) 그래프"
   ]
  },
  {
   "cell_type": "code",
   "execution_count": null,
   "metadata": {
    "scrolled": true
   },
   "outputs": [],
   "source": [
    "# 막대 그래프 그리기\n",
    "x = [\"사과\", \"포도\", \"딸기\"]\t\t\t# 항목 데이터\n",
    "y = [12, 31, 24]\t\t\t\t\t# 빈도(크기) 데이터\n",
    "plt.title(\"과일 생산량\")\n",
    "# 색상은 밝은 파랑, 그래프 폭은 0.5로 지정\n",
    "\n",
    "plt.xlabel(\"과일 종류\")\n",
    "plt.ylabel(\"판매량\")\n",
    "# y축 범위 지정\n",
    "\n",
    "plt.show()"
   ]
  },
  {
   "cell_type": "markdown",
   "metadata": {},
   "source": [
    "### 원(pie) 그래프"
   ]
  },
  {
   "cell_type": "code",
   "execution_count": null,
   "metadata": {},
   "outputs": [],
   "source": [
    "# 원 그래프 그리기\n",
    "x = [\"사과\", \"포도\", \"딸기\", \"참외\"]\t\t\t\t# 항목 데이터\n",
    "y = [12, 31, 24, 46]\t\t\t\t\t\t\t\t# 비율 데이터\n",
    "colors = [\"coral\", \"cornsilk\", \"pink\", \"aqua\"]\t\t# 항목별 컬러 지정\n",
    "plt.title(\"원 그래프\")\n",
    "# 그래프 설정\n",
    "\n",
    "plt.show()"
   ]
  },
  {
   "cell_type": "code",
   "execution_count": null,
   "metadata": {},
   "outputs": [],
   "source": [
    "# 원 그래프 조각 분리하기\n",
    "x = [\"사과\", \"포도\", \"딸기\", \"참외\"]\t\t\t# 항목 데이터\n",
    "y = [12, 31, 24, 46]\t\t\t\t\t\t\t# 비율 데이터\n",
    "colors = [\"coral\", \"cornsilk\", \"pink\", \"aqua\"]\t# 항목별 컬러 지정\n",
    "plt.title(\"원 그래프\")\n",
    "# plt.pie 속성에 explode = (0.1, 0, 0, 0) 추가\n",
    "\n",
    "plt.show()"
   ]
  },
  {
   "cell_type": "markdown",
   "metadata": {},
   "source": [
    "### 히스토그램(hist)"
   ]
  },
  {
   "cell_type": "code",
   "execution_count": null,
   "metadata": {},
   "outputs": [],
   "source": [
    "# 히스토그램 그리기\n",
    "#plt.rcParams['axes.unicode_minus'] = False\t\t# 그래프에서 마이너스 기호가 깨질 때\n",
    "\n",
    "x = [18, 4, 10, 22, 19, -10, 10, -2, -1, 4, 1, 15, 8, 1, 4, 3, 15, -2, 3,- 9, -26, 7, 9, -7, 23, -15, 0, -2, 15, 15]\n",
    "plt.title(\"Histogram\")\n",
    "plt.grid(True)\t\t\t\t\t# 격자 출력\n",
    "# 히스토그램 설정, 계급 구간을 10 으로 지정\n",
    "\n",
    "plt.show()"
   ]
  },
  {
   "cell_type": "markdown",
   "metadata": {},
   "source": [
    "### 상자 수염(boxplot) 그래프"
   ]
  },
  {
   "cell_type": "code",
   "execution_count": null,
   "metadata": {
    "scrolled": true
   },
   "outputs": [],
   "source": [
    "# 수직 박스 플롯 그래프 그리기\n",
    "x = [55, 60, 63, 67, 70, 74, 78, 66, 64, 73, 106]\n",
    "# symbol=blue oval, 수직\n",
    "\n",
    "plt.show()"
   ]
  },
  {
   "cell_type": "code",
   "execution_count": null,
   "metadata": {},
   "outputs": [],
   "source": [
    "# 수평 박스 플롯 그리기\n",
    "x = [55, 60, 63, 67, 70, 74, 78, 66, 64, 73, 106]\n",
    "y = [55, 60, 63, 67, 70, 74, 78, 66, 64, 73, 90]\n",
    "# symbol=red star, 수평, notch\n",
    "\n",
    "plt.show()"
   ]
  },
  {
   "cell_type": "markdown",
   "metadata": {},
   "source": [
    "## 6.2 pandas로 그래프 그리기"
   ]
  },
  {
   "cell_type": "markdown",
   "metadata": {},
   "source": [
    "###  실습 데이터 불러오기"
   ]
  },
  {
   "cell_type": "code",
   "execution_count": null,
   "metadata": {},
   "outputs": [],
   "source": [
    "import pandas as pd\t\t\t\t\t\t# pandas 불러오기\n",
    "import matplotlib.pyplot as plt\t\t\t# matplotlib 불러오기\n",
    "\n",
    "plt.rcParams[\"font.family\"] = \"Malgun Gothic\"\t\t# 그래프에서 한글 폰트 깨짐 방지 \n",
    "\n",
    "graph = pd.read_excel(r\"chapter06/그래프 실습2.xlsx\", sheet_name = \"Sheet1\")\n",
    "\n",
    "graph.head(10)\t\t\t\t\t\t\t# 총 30행으로 구성, 상위 10행만 출력"
   ]
  },
  {
   "cell_type": "markdown",
   "metadata": {},
   "source": [
    "### 선 그래프"
   ]
  },
  {
   "cell_type": "code",
   "execution_count": null,
   "metadata": {},
   "outputs": [],
   "source": [
    "# 국어, 영어 열을 선택하여 선 그래프 그리기\n"
   ]
  },
  {
   "cell_type": "code",
   "execution_count": null,
   "metadata": {},
   "outputs": [],
   "source": [
    "# 반별 영어 점수 산점도 그리기\n"
   ]
  },
  {
   "cell_type": "markdown",
   "metadata": {},
   "source": [
    "### 막대 그래프"
   ]
  },
  {
   "cell_type": "code",
   "execution_count": null,
   "metadata": {},
   "outputs": [],
   "source": [
    "# 과목별 점수 데이터의 평균값으로 막대 그래프 그리기\n",
    "# 2~6열(국어~과학) 평균을 구한 후 막대그래프 그리기\n"
   ]
  },
  {
   "cell_type": "code",
   "execution_count": null,
   "metadata": {},
   "outputs": [],
   "source": [
    "# 과목별 점수 데이터의 평균값으로 수평 막대 그래프 그리기\n"
   ]
  },
  {
   "cell_type": "markdown",
   "metadata": {},
   "source": [
    "### 원 그래프"
   ]
  },
  {
   "cell_type": "code",
   "execution_count": null,
   "metadata": {},
   "outputs": [],
   "source": [
    "# 반별 인원수로 원 그래프 그리기\n"
   ]
  },
  {
   "cell_type": "code",
   "execution_count": null,
   "metadata": {},
   "outputs": [],
   "source": [
    "# Series를 이용해 과일 판매량으로 원 그래프 그리기\n",
    "fruit = [\"사과\", \"포도\", \"딸기\", \"참외\"] \t\t# 과일 종류 데이터\n",
    "sales = [12, 31, 24, 46] \t\t\t\t\t\t# 판매량 데이터\n",
    "# pd.Series 자료형 생성\n",
    "\n",
    "\n",
    "df.plot.pie(title=\"과일 판매량\", ylabel = \"과일\", autopct = \"%1.1f%%\", explode = (0.1, 0, 0, 0), shadow = True)\n",
    "plt.show()"
   ]
  },
  {
   "cell_type": "markdown",
   "metadata": {},
   "source": [
    "### 히스토그램"
   ]
  },
  {
   "cell_type": "code",
   "execution_count": null,
   "metadata": {},
   "outputs": [],
   "source": [
    "# 영어 점수 히스토그램 그리기 (단일)\n",
    "\n",
    "a.set_xlabel(\"영어점수\"), a.set_ylabel(\"빈도수\")\n",
    "plt.show()"
   ]
  },
  {
   "cell_type": "code",
   "execution_count": null,
   "metadata": {},
   "outputs": [],
   "source": [
    "# 사회, 과학 점수 분포 시각화 : 중첩부분은 alpha값으로 투명도를 조절\n",
    "\n",
    "\n",
    "plt.legend()\n",
    "plt.show()"
   ]
  },
  {
   "cell_type": "markdown",
   "metadata": {},
   "source": [
    "### 상자 수염 그래프"
   ]
  },
  {
   "cell_type": "code",
   "execution_count": null,
   "metadata": {},
   "outputs": [],
   "source": [
    "# 범주형 열 값으로 상자 수염 그래프 그리기\n",
    "\n",
    "plt.show()"
   ]
  }
 ],
 "metadata": {
  "kernelspec": {
   "display_name": "Python 3 (ipykernel)",
   "language": "python",
   "name": "python3"
  },
  "language_info": {
   "codemirror_mode": {
    "name": "ipython",
    "version": 3
   },
   "file_extension": ".py",
   "mimetype": "text/x-python",
   "name": "python",
   "nbconvert_exporter": "python",
   "pygments_lexer": "ipython3",
   "version": "3.10.4"
  }
 },
 "nbformat": 4,
 "nbformat_minor": 4
}
