{
 "cells": [
  {
   "cell_type": "markdown",
   "id": "2f369a2d",
   "metadata": {},
   "source": [
    "# Chapter 07 문서 업무 자동화"
   ]
  },
  {
   "cell_type": "markdown",
   "id": "4bc322b9",
   "metadata": {},
   "source": [
    "## 7.1 엑셀 업무 자동화"
   ]
  },
  {
   "cell_type": "markdown",
   "id": "45c11ab0",
   "metadata": {},
   "source": [
    "### openpyxl 설치하기"
   ]
  },
  {
   "cell_type": "code",
   "execution_count": null,
   "id": "857e9cf6",
   "metadata": {
    "scrolled": false
   },
   "outputs": [],
   "source": [
    "!pip install openpyxl"
   ]
  },
  {
   "cell_type": "markdown",
   "id": "71106ed5",
   "metadata": {},
   "source": [
    "### 엑셀 파일과 시트 다루기"
   ]
  },
  {
   "cell_type": "markdown",
   "id": "a04b89c8",
   "metadata": {},
   "source": [
    "#### 엑셀 파일 생성 및 저장하기"
   ]
  },
  {
   "cell_type": "code",
   "execution_count": null,
   "id": "51d5883b",
   "metadata": {},
   "outputs": [],
   "source": [
    "# Workbook 모듈(클래스) 불러오기\n",
    "# wb 객체 생성.동시에 워크시트 하나가 기본적으로 추가\n",
    "# wb 객체를 통해 워크시트를 활성화하고 ws 객체 생성. 현재 Active Sheet 얻기\n",
    "# ws 시트의 시트명 변경\n",
    "# ws 시트의 첫 번째 행(A1)부터 차례로 내용 추가\n",
    "# ws 시트의 두 번째 행에 추가\n",
    "# workbook(엑셀 파일) 저장"
   ]
  },
  {
   "cell_type": "markdown",
   "id": "bca35267",
   "metadata": {},
   "source": [
    "#### 엑셀 파일을 불러와 내용 수정 후 저장하기"
   ]
  },
  {
   "cell_type": "code",
   "execution_count": null,
   "id": "268bc6fd",
   "metadata": {},
   "outputs": [],
   "source": [
    "# Workbook 클래스와 엑셀 파일을 불러와 객체로 저장할 수 있는 함수 load_workbook\n",
    "\n",
    "wb.save(filename = \"chapter07/테스트.xlsx\")\t\t\t\t# wb를 \"테스트.xlsx\" 파일로 저장"
   ]
  },
  {
   "cell_type": "markdown",
   "id": "87464841",
   "metadata": {},
   "source": [
    "#### 엑셀 시트 생성 및 저장"
   ]
  },
  {
   "cell_type": "code",
   "execution_count": null,
   "id": "2a271629",
   "metadata": {},
   "outputs": [],
   "source": [
    "from openpyxl import Workbook\n",
    "wb = Workbook()\t\t\t\t# wb 객체 생성, wb에 시트 하나가 기본 추가됨\n",
    "# wb에 \"시트2\" 시트 추가\n",
    "# wb에 \"시트3\" 시트 추가"
   ]
  },
  {
   "cell_type": "code",
   "execution_count": null,
   "id": "72fea4c9",
   "metadata": {},
   "outputs": [],
   "source": [
    "# wb 객체에 있는 모든 시트 정보 출력\n"
   ]
  },
  {
   "cell_type": "code",
   "execution_count": null,
   "id": "35e36afe",
   "metadata": {},
   "outputs": [],
   "source": [
    "# wb 객체에 있는 \"시트2”를 선택\n"
   ]
  },
  {
   "cell_type": "code",
   "execution_count": null,
   "id": "b765288c",
   "metadata": {},
   "outputs": [],
   "source": [
    "# 선택된 시트에 내용 추가\n",
    "\n",
    "# 시트를 직접 지정해서 내용 추가\n"
   ]
  },
  {
   "cell_type": "code",
   "execution_count": null,
   "id": "d8cff363",
   "metadata": {},
   "outputs": [],
   "source": [
    "wb.save(filename = \"chapter07/샘플_시트 추가.xlsx\")\t# 엑셀 파일로 저장"
   ]
  },
  {
   "cell_type": "markdown",
   "id": "46820d3a",
   "metadata": {},
   "source": [
    "#### 시트 복사하기"
   ]
  },
  {
   "cell_type": "code",
   "execution_count": null,
   "id": "6e9700cd",
   "metadata": {},
   "outputs": [],
   "source": [
    "from openpyxl import load_workbook\n",
    "wb = load_workbook(\"chapter07/테스트.xlsx\")\t\t\t\t# \"테스트.xlsx\" 파일을 불러와 wb 객체에 저장\n",
    "# \"시트1\"을 복사하여 wb 객체에 저장\n",
    "\n",
    "# 파일을 열 때 “시트1 Copy”를 활성화 \n",
    "\n",
    "wb.save(filename = \"chapter07/샘플_시트 복사.xlsx\")\t\t# 파일 저장"
   ]
  },
  {
   "cell_type": "markdown",
   "id": "e6b4507f",
   "metadata": {},
   "source": [
    "#### 시트 이름 바꾸기 : .title"
   ]
  },
  {
   "cell_type": "code",
   "execution_count": null,
   "id": "06bcb888",
   "metadata": {},
   "outputs": [],
   "source": [
    "from openpyxl import load_workbook\n",
    "wb = load_workbook(\"chapter07/샘플_시트 복사.xlsx\")\n",
    "print(wb.sheetnames)\t\t\t\t# 시트명 출력\n",
    "\n",
    "# \"시트1 Copy\" 시트명을 \"시트1 복사\"로 변경\n",
    "\n",
    "wb.save(filename = \"chapter07/샘플_시트 복사.xlsx\")\n",
    "print(wb.sheetnames)\t\t\t\t\t\t# 파일이 아닌 wb 객체에 저장된 시트명 출력"
   ]
  },
  {
   "cell_type": "markdown",
   "id": "025cda30",
   "metadata": {},
   "source": [
    "#### 시트 순서 변경하기"
   ]
  },
  {
   "cell_type": "code",
   "execution_count": null,
   "id": "a8e19510",
   "metadata": {},
   "outputs": [],
   "source": [
    "from openpyxl import load_workbook\n",
    "wb = load_workbook(\"chapter07/샘플_시트 복사.xlsx\")\n",
    "print(wb.sheetnames)\n",
    "\n",
    "# “시트1 복사” 시트를 왼쪽(-1)/오른쪽(1)으로 이동 \n",
    "\n",
    "wb.save(filename = \"chapter07/샘플_시트 순서 변경.xlsx\")\n",
    "print(wb.sheetnames)"
   ]
  },
  {
   "cell_type": "markdown",
   "id": "146de16f",
   "metadata": {},
   "source": [
    "#### 시트 삭제하기"
   ]
  },
  {
   "cell_type": "code",
   "execution_count": null,
   "id": "8276e750",
   "metadata": {},
   "outputs": [],
   "source": [
    "from openpyxl import load_workbook\n",
    "wb = load_workbook(\"chapter07/샘플_시트 순서 변경.xlsx\")\n",
    "print(wb.sheetnames)\n",
    "\n",
    "# \"시트1 복사\" 시트 삭제하기\n",
    "\n",
    "\n",
    "wb.save(filename = \"chapter07/샘플_시트 삭제.xlsx\")\n",
    "print(wb.sheetnames)"
   ]
  },
  {
   "cell_type": "markdown",
   "id": "509c9f15",
   "metadata": {},
   "source": [
    "### 셀 내용 다루기"
   ]
  },
  {
   "cell_type": "code",
   "execution_count": null,
   "id": "33a43a3d",
   "metadata": {},
   "outputs": [],
   "source": [
    "# 셀의 내용 확인하기\n",
    "from openpyxl import load_workbook\n",
    "wb = load_workbook(\"chapter07/테스트.xlsx\")\n",
    "ws = wb[\"시트1\"]\t\t\t# 시트 선택\n",
    "\n",
    "# [A1] 셀의 값을 출력\n",
    "\n",
    "# 1행 0열의 값 출력\n"
   ]
  },
  {
   "cell_type": "markdown",
   "id": "5ba4a10b",
   "metadata": {},
   "source": [
    "#### 반복문을 통해 셀 정보에 접근하기"
   ]
  },
  {
   "cell_type": "code",
   "execution_count": null,
   "id": "bb7c9db7",
   "metadata": {},
   "outputs": [],
   "source": [
    "# 반복문을 통해 셀 정보에 접근하기\n",
    "from openpyxl import load_workbook\n",
    "wb = load_workbook(\"chapter07/테스트.xlsx\")\n",
    "ws = wb[\"시트1\"]\n",
    "\n",
    "# 반복문을 활용하여 ws 객체에 데이터가 있는 행을 차례 차례 불러와 행의 속성을 출력\n"
   ]
  },
  {
   "cell_type": "code",
   "execution_count": null,
   "id": "d7968ea0",
   "metadata": {},
   "outputs": [],
   "source": [
    "# 반복문을 활용하여 ws 객체에 데이터가 있는 행을 차례로 읽어 옴 \n",
    "# 반복문을 활용하여 변수 row에 있는 속성과 값을 읽어 cell에 저장\n",
    "# cell의 속성과 값을 출력"
   ]
  },
  {
   "cell_type": "markdown",
   "id": "fdd9738f",
   "metadata": {},
   "source": [
    "#### 셀 내용 수정하기"
   ]
  },
  {
   "cell_type": "code",
   "execution_count": null,
   "id": "c81a1382",
   "metadata": {},
   "outputs": [],
   "source": [
    "from openpyxl import load_workbook\n",
    "wb = load_workbook(\"chapter07/테스트.xlsx\")\n",
    "ws = wb[\"시트1\"]\n",
    "\n",
    "# A1 셀의 내용을 \"이름\"에서 \"성명\"으로 변경 \n",
    "\n",
    "\n",
    "wb.save(filename = \"chapter07/테스트_셀 내용 변경.xlsx\")"
   ]
  },
  {
   "cell_type": "markdown",
   "id": "e252f029",
   "metadata": {},
   "source": [
    "#### 반복문을 통해 셀 정보에 순차적으로 접근, 값 변경하기"
   ]
  },
  {
   "cell_type": "code",
   "execution_count": null,
   "id": "2d0c5a0b",
   "metadata": {},
   "outputs": [],
   "source": [
    "from openpyxl import load_workbook\n",
    "wb = load_workbook(\"chapter07/테스트.xlsx\")\n",
    "ws = wb[\"시트1\"]\n",
    "new_data = [\"신사임당\", \"45\", \"여자\"]\n",
    "\n",
    "# 반복문을 통해 셀 정보에 순차적으로 접근, 값 변경하는 코드 작성\n",
    "\n",
    "\n",
    "wb.save(filename = \"chapter07/테스트_셀 내용 변경(반복문).xlsx\")"
   ]
  },
  {
   "cell_type": "markdown",
   "id": "30bde45c",
   "metadata": {},
   "source": [
    "#### 셀에 내용 입력하기"
   ]
  },
  {
   "cell_type": "code",
   "execution_count": null,
   "id": "11fbf921",
   "metadata": {},
   "outputs": [],
   "source": [
    "from openpyxl import load_workbook\n",
    "wb = load_workbook(\"chapter07/테스트.xlsx\")\n",
    "ws = wb[\"시트1\"]\n",
    "\n",
    "# 1) 셀에 직접 데이터 입력\n",
    "\n",
    "\n",
    "# 2) 그 다음 행에 데이터 입력\n",
    "\n",
    "\n",
    "new_data_list = [[\"유관순\", \"16\", \"여자\"], [\"세종대왕\", \"60\", \"남자\"]]\t\t\t# 리스트 생성\n",
    "\n",
    "# 3) 반복문을 활용해 데이터 입력\n",
    "\n",
    "\n",
    "wb.save(filename = \"chapter07/테스트_셀 내용 입력.xlsx\")"
   ]
  },
  {
   "cell_type": "markdown",
   "id": "df625b8a",
   "metadata": {},
   "source": [
    "#### 행/열 삭제하기"
   ]
  },
  {
   "cell_type": "code",
   "execution_count": null,
   "id": "84f6966c",
   "metadata": {},
   "outputs": [],
   "source": [
    "from openpyxl import load_workbook\n",
    "wb = load_workbook(\"chapter07/테스트.xlsx\")\n",
    "ws = wb[\"시트1\"]\n",
    "\n",
    "# 2행부터 1행만 삭제 \n",
    "\n",
    "# 두 번째 열(B열)부터 2열 삭제 \n",
    "\n",
    "wb.save(filename = \"chapter07/테스트_행과 열 삭제.xlsx\")"
   ]
  },
  {
   "cell_type": "markdown",
   "id": "41bae875",
   "metadata": {},
   "source": [
    "#### 셀 복사하기"
   ]
  },
  {
   "cell_type": "code",
   "execution_count": null,
   "id": "8c815d41",
   "metadata": {},
   "outputs": [],
   "source": [
    "from openpyxl import load_workbook\n",
    "wb = load_workbook(\"chapter07/테스트.xlsx\")\n",
    "ws = wb[\"시트1\"]\n",
    "\n",
    "# A2 셀 값을 변수 src에 저장\n",
    "\n",
    "# A5 셀에 A2 셀 값을 복사\n",
    "\n",
    "# [A6], [B6], [C6] 셀을 선택해 반복문 실행\n",
    "\n",
    "\n",
    "wb.save(filename = \"chapter07/테스트_셀 복사1.xlsx\")"
   ]
  },
  {
   "cell_type": "code",
   "execution_count": null,
   "id": "62d2a419",
   "metadata": {},
   "outputs": [],
   "source": [
    "# 여러 셀의 내용을 읽어와 복사해 넣기\n",
    "from openpyxl import load_workbook\n",
    "wb = load_workbook(\"chapter07/테스트.xlsx\")\n",
    "ws = wb[\"시트1\"]\n",
    "\n",
    "# 복사할 값을 저장할 변수 선언, 원본이 될 2행에 접근, 2행의 셀 값들을 src_data 변수에 저장\n",
    "\n",
    "\n",
    "# [A2:C3] 범위를 선택해 반복문 실행\n",
    "   \n",
    "    \n",
    "wb.save(filename = \"chapter07/테스트_셀 복사2.xlsx\")"
   ]
  },
  {
   "cell_type": "markdown",
   "id": "618afc29",
   "metadata": {},
   "source": [
    "#### 셀 내용 이동하기"
   ]
  },
  {
   "cell_type": "code",
   "execution_count": null,
   "id": "2f831889",
   "metadata": {},
   "outputs": [],
   "source": [
    "from openpyxl import load_workbook\n",
    "wb = load_workbook(\"chapter07/테스트.xlsx\")\n",
    "ws = wb[\"시트1\"]\n",
    "\n",
    "# [B1:C3] 영역에 있는 데이터를 아래로 한 칸, 오른쪽으로 2칸 이동\n",
    "# 음수값을 사용해 위나 왼쪽으로도 이동 가능\n",
    "\n",
    "wb.save(filename = \"chapter07/테스트_셀 이동.xlsx\")"
   ]
  },
  {
   "cell_type": "markdown",
   "id": "8cce38bd",
   "metadata": {},
   "source": [
    "#### 셀 병합 및 해제하기"
   ]
  },
  {
   "cell_type": "code",
   "execution_count": null,
   "id": "dd5df096",
   "metadata": {},
   "outputs": [],
   "source": [
    "from openpyxl import load_workbook\n",
    "wb = load_workbook(\"chapter07/테스트.xlsx\")\n",
    "ws = wb[\"시트1\"]\n",
    "\n",
    "# A1, B1 셀 병합\n",
    "\n",
    "# A2, B2 셀 병합\n",
    "\n",
    "# A2, B2 셀 병합 해제\n",
    "\n",
    "wb.save(filename = \"chapter07/테스트_셀 병합.xlsx\")\n",
    "# [A1:B1] 셀은 병합되어 A1 셀 값만 보이게 되고, [A2:B2] 셀은 병합 후 다시 병합 해제하여 A2 셀 값만 보이게 된다. "
   ]
  },
  {
   "cell_type": "markdown",
   "id": "0d566d6c",
   "metadata": {},
   "source": [
    "#### 텍스트 형식을 숫자 형식으로 바꾸고 엑셀 함수로 연산하기"
   ]
  },
  {
   "cell_type": "code",
   "execution_count": null,
   "id": "8ddd1374",
   "metadata": {},
   "outputs": [],
   "source": [
    "from openpyxl import load_workbook\n",
    "wb = load_workbook(\"chapter07/테스트.xlsx\")\n",
    "ws = wb[\"시트1\"]\n",
    "\n",
    "# B2 셀을 정수형으로 변환\n",
    "# B3 셀을 정수형으로 변환 \n",
    "# A4 셀에 데이터 입력\n",
    "# B4 셀에 sum 함수 입력\n",
    "\n",
    "wb.save(filename = \"chapter07/테스트_셀 연산.xlsx\")"
   ]
  },
  {
   "cell_type": "markdown",
   "id": "f3c77f9c",
   "metadata": {},
   "source": [
    "### 셀 서식 다루기"
   ]
  },
  {
   "cell_type": "markdown",
   "id": "5b19783f",
   "metadata": {},
   "source": [
    "#### 셀 배경과 폰트 서식 변경하기"
   ]
  },
  {
   "cell_type": "code",
   "execution_count": null,
   "id": "aade3dff",
   "metadata": {},
   "outputs": [],
   "source": [
    "from openpyxl import load_workbook\n",
    "# 폰트와 배경 설정 클래스 불러오기\n",
    "\n",
    "\n",
    "wb = load_workbook(\"chapter07/테스트.xlsx\")\n",
    "ws = wb[\"시트1\"]\n",
    "\n",
    "# 항목 부분 [A1:C1]의 배경을 검정색, 폰트 크기 12, 볼드체, 글자색 흰색으로 변경(색 정보는 aRGB HEX 코드로 지정하면 됨)\n",
    "\n",
    "#폰트 설정\n",
    "\n",
    "\n",
    "for row in ws:\t\t\t\t\t\t\t# ws의 행을 하나씩 읽어 옴\n",
    "    for cell in row:\t\t\t\t\t# 행의 각 셀에 접근\n",
    "        if cell.row == 1:\t\t\t\t# 셀 행이 1일 때 True가 되어 속성 변경 가능\n",
    "            # 셀의 배경 속성을 fill_style로 설정 \n",
    "            \n",
    "            # 셀의 폰트 속성을 font_style로 설정\n",
    "            \n",
    "            \n",
    "wb.save(filename = \"chapter07/테스트_배경 서식 변경.xlsx\")"
   ]
  },
  {
   "cell_type": "markdown",
   "id": "ace0ca8d",
   "metadata": {},
   "source": [
    "#### 셀 높이와 너비 조정하기"
   ]
  },
  {
   "cell_type": "code",
   "execution_count": null,
   "id": "bf2d7f81",
   "metadata": {},
   "outputs": [],
   "source": [
    "from openpyxl import load_workbook\n",
    "wb = load_workbook(\"chapter07/테스트_배경 서식 변경.xlsx\")\n",
    "ws = wb[\"시트1\"]\n",
    "\n",
    "# 1~5행의 높이를 24, A열의 너비를 14로 변경\n",
    "# row_dimensions[숫자] → i행 전체를 선택\n",
    "\n",
    "#column_dimensions[\"A\"] → A열 전체를 선택\n",
    "\n",
    "wb.save(filename = \"chapter07/테스트_너비와 높이 조정.xlsx\")"
   ]
  },
  {
   "cell_type": "markdown",
   "id": "97b29831",
   "metadata": {},
   "source": [
    "#### 텍스트 정렬하기"
   ]
  },
  {
   "cell_type": "code",
   "execution_count": null,
   "id": "4d4e4295",
   "metadata": {},
   "outputs": [],
   "source": [
    "from openpyxl import load_workboo\n",
    "# 텍스트 정렬 모듈 불러오기\n",
    "\n",
    "\n",
    "wb = load_workbook(\"chapter07/테스트_너비와 높이 조정.xlsx\")\n",
    "ws = wb[\"시트1\"]\n",
    "\n",
    "# 가로와 세로 정렬값을 중앙으로 변경하는 객체 생성\n",
    "\n",
    "\n",
    "for row in ws:\t\t\t\t\t\t\t\t# ws의 행을 하나씩 읽어 옴\n",
    "    for cell in row:\t\t\t\t\t\t# 각 행의 셀을 하나씩 읽어 옴\n",
    "       # 셀의 정렬 속성을 설정\n",
    "\n",
    "wb.save(filename = \"chapter07/테스트_텍스트 정렬.xlsx\")"
   ]
  },
  {
   "cell_type": "markdown",
   "id": "54fa7af3",
   "metadata": {},
   "source": [
    "#### 셀 테두리 서식 변경하기"
   ]
  },
  {
   "cell_type": "code",
   "execution_count": null,
   "id": "43e74f84",
   "metadata": {},
   "outputs": [],
   "source": [
    "from openpyxl import load_workbook\n",
    "# 테두리 설정 모듈 불러오기\n",
    "\n",
    "\n",
    "wb = load_workbook(\"chapter07/테스트_텍스트 정렬.xlsx\")\n",
    "ws = wb[\"시트1\"]\n",
    "\n",
    "# 테두리를 중간 굵기, 검정색으로 설정\n",
    "\n",
    "\n",
    "# 위 서식(side_style)을 적용할 테두리 영역을 설정 후 border_styles 객체로 저장\n",
    "\n",
    "\n",
    "for row in ws:\t\t\t\t\t\t\t\t# ws의 행을 하나씩 읽어 옴\n",
    "    for cell in row:\t\t\t\t\t\t# 행의 각 셀에 접근\n",
    "        cell.border = border_styles\t\t\t# 셀의 테두리 속성을 설정\n",
    "wb.save(filename = \"chapter07/테스트_셀 테두리 변경.xlsx\")"
   ]
  },
  {
   "cell_type": "markdown",
   "id": "c98555d5",
   "metadata": {},
   "source": [
    "## 7.2 XlsxWriter로 엑셀 파일 만들기"
   ]
  },
  {
   "cell_type": "code",
   "execution_count": null,
   "id": "9f9d9958",
   "metadata": {},
   "outputs": [],
   "source": [
    "# 패키지 설치하기\n"
   ]
  },
  {
   "cell_type": "markdown",
   "id": "3b341e37",
   "metadata": {},
   "source": [
    "### 기본 코드 구조"
   ]
  },
  {
   "cell_type": "raw",
   "id": "e43bac23",
   "metadata": {},
   "source": [
    "import xlsxwriter\n",
    "\n",
    "# 1) 생성할 엑셀 파일 이름을 지정해 워크북 객체 생성\n",
    "workbook = xlsxwriter.Workbook(\"엑셀파일\")\n",
    "\n",
    "# 2) 워크북 내에 사용할 워크시트 생성\n",
    "worksheet = workbook.add_worksheet(\"시트이름\")    # 생략시 \"Sheet1\" 부터 자동 생성\n",
    "\n",
    "# 3) 워크시트의 셀에 쓰기 작업 수행\n",
    "worksheet.write(row, col, \"셀 데이터\")\t            # 셀 행과 열의 위치로 지정\n",
    "\t\t혹은\n",
    "worksheet.write(\"셀 주소\", \"셀 데이터\")\t         # 셀 주소로 지정\n",
    "\n",
    "# 4) 워크북 객체를 닫고 엑셀 파일 생성\n",
    "workbook.close()"
   ]
  },
  {
   "cell_type": "markdown",
   "id": "57a15b1b",
   "metadata": {},
   "source": [
    "#### xwlsxwriter로 엑셀 파일 생성하기"
   ]
  },
  {
   "cell_type": "code",
   "execution_count": null,
   "id": "f73f9643",
   "metadata": {},
   "outputs": [],
   "source": [
    "import xlsxwriter\n",
    "\n",
    "# 엑셀 파일 경로\n",
    "folder = 'chapter07/' \n",
    "file = folder + 'Xlsx_01.xlsx'\n",
    "\n",
    "wb = xlsxwriter.Workbook(file) \t\t\t# 워크북 객체 생성 \n",
    "ws = wb.add_worksheet() \t\t\t\t# 워크시트 생성\n",
    "\n",
    "ws.write(0, 0, 100) \t\t\t\t\t# 셀의 행과 열의 위치를 지정해 셀에 데이터 쓰기\n",
    "ws.write('A2', 200)\t\t\t\t\t\t# 셀의 주소 지정 후 셀에 데이터 쓰기\n",
    "\n",
    "wb.close() \t\t\t\t\t\t\t\t# 워크북 객체를 닫고 엑셀 파일 생성\n",
    "\n",
    "print(\"생성한 엑셀 파일:\", file) \t\t# 생성한 파일 이름 출력"
   ]
  },
  {
   "cell_type": "markdown",
   "id": "a11cd401",
   "metadata": {},
   "source": [
    "#### 리스트 자료형 쓰기"
   ]
  },
  {
   "cell_type": "code",
   "execution_count": 1,
   "id": "a46de74f",
   "metadata": {},
   "outputs": [],
   "source": [
    "import xlsxwriter\n",
    "\n",
    "wb = xlsxwriter.Workbook(\"chapter07/Xlsx_02.xlsx\") \n",
    "ws = wb.add_worksheet()\n",
    "\n",
    "# 리스트 자료형 쓰기\n",
    "list_num = [10, 20, 30, 40]\n",
    "for col_num, value in enumerate(list_num):\n",
    "    ws.write(0, col_num, value)\t\t\t\t\t\t\t# 행 번호 1 (인덱스 0) 은 고정, 열 번호는 증가\n",
    "    \n",
    "list_num2 = [50, 60, 70, 80]\n",
    "ws.write_row(1, 0, list_num)\t\t\t\t\t\t\t# 셀 A2에서 시작해 행 방향으로 쓰기\n",
    "ws.write_column(2, 0, list_num2)\t\t\t\t\t\t# 셀 A3에서 시작해 열 방향으로 쓰기\n",
    "\n",
    "wb.close()"
   ]
  },
  {
   "cell_type": "markdown",
   "id": "41a6ace0",
   "metadata": {},
   "source": [
    "#### 딕셔너리 자료형 쓰기"
   ]
  },
  {
   "cell_type": "code",
   "execution_count": null,
   "id": "729d62a4",
   "metadata": {},
   "outputs": [],
   "source": [
    "# 딕셔너리 데이터 생성\n",
    "dict_data = { '제품ID': ['P1001', 'P1002', 'P1003', 'P1004'],\n",
    "              '판매가격': [5000, 7000, 8000, 10000],\n",
    "              '판매량': [50, 93, 70, 48] }\n",
    "dict_data"
   ]
  },
  {
   "cell_type": "code",
   "execution_count": null,
   "id": "8c8cd25c",
   "metadata": {},
   "outputs": [],
   "source": [
    "import xlsxwriter\n",
    "\n",
    "wb = xlsxwriter.Workbook(\"chapter07/Xlsx_03.xlsx\")\n",
    "ws = wb.add_worksheet()\n",
    "\n",
    "list_keys  = list(dict_data.keys())\t\t\t\t\t\t# 딕셔너리 키를 추출해 리스트로 변환\n",
    "list_values = list(dict_data.values())\t\t\t\t\t# 딕셔너리 값을 추출해 리스트로 변환\n",
    "\n",
    "ws.write_row(0, 0, list_keys)\t\t\t\t\t\t\t# 첫 번째 행에 키를 행 방향으로 쓰기\n",
    "\n",
    "# 두 번째 행에 리스트 데이터를 열 방향으로 쓰기\n",
    "for col, list_value in enumerate(list_values):\n",
    "    ws.write_column(1, col, list_value)\n",
    "\n",
    "wb.close()"
   ]
  },
  {
   "cell_type": "markdown",
   "id": "710ecfb9",
   "metadata": {},
   "source": [
    "### 판다스 DataFrame 데이터 쓰기 기본 구조"
   ]
  },
  {
   "cell_type": "raw",
   "id": "64be5986",
   "metadata": {},
   "source": [
    "df.to_excel(\"엑셀파일\" \n",
    "\t[, index = True(기본)/False,\n",
    "\t   header = True(기본)/False,\n",
    "\t   sheet_name = ＂시트이름\"(기본: 'Sheet1’) 혹은 시트_번호(기본: 0),\n",
    "\t   startrow = 숫자(기본: 0),\n",
    "\t   startcol = 숫자(기본: 0)] [,options]) "
   ]
  },
  {
   "cell_type": "code",
   "execution_count": null,
   "id": "58d6d463",
   "metadata": {
    "scrolled": true
   },
   "outputs": [],
   "source": [
    "import pandas as pd\n",
    "\n",
    "df = pd.read_csv(\"chapter07/korea_rain.csv\")\t\t# CSV 파일을 읽어와서 DataFrame 데이터 생성\n",
    "df"
   ]
  },
  {
   "cell_type": "code",
   "execution_count": null,
   "id": "0e35a499",
   "metadata": {},
   "outputs": [],
   "source": [
    "# 1) 쓰기 엔진을 xlsxwriter로 지정해 판다스의 ExcelWriter로부터 객체(excel_writer) 생성\n",
    "excel_writer = pd.ExcelWriter(\"chapter07/Xlsx_DF_01.xlsx\", engine='xlsxwriter') \n",
    "\n",
    "# 2) 생성한 엑셀 객체에 DataFrame 데이터(df)를 쓰기(시트이름 지정)\n",
    "df.to_excel(excel_writer, sheet_name='Sheet1')\n",
    "#df.to_excel(excel_writer, sheet_name='Sheet1', index=false)\t\t# 인덱스를 빼고 생성할 때\n",
    "\n",
    "# 3) 객체를 닫고 엑셀 파일로 저장\n",
    "excel_writer.save()"
   ]
  },
  {
   "cell_type": "markdown",
   "id": "df32b2fc",
   "metadata": {},
   "source": [
    "#### 셀 서식 지정하는 코드 구조"
   ]
  },
  {
   "cell_type": "raw",
   "id": "7dd1f7e2",
   "metadata": {},
   "source": [
    "import xlsxwriter\n",
    "\n",
    "# 1) 생성할 엑셀 파일 이름을 지정해 워크북 객체 생성\n",
    "workbook = xlsxwriter.Workbook(\"엑셀파일\")\n",
    "\n",
    "# 2) 워크북 내에 사용할 워크시트 생성\n",
    "worksheet = workbook.add_worksheet(\"시트이름\")\t\t# 생략시 \"Sheet1\" 부터 자동 생성\n",
    "\n",
    "# 3) 셀 서식 지정을 위한 서식 객체 생성 및 서식 지정\n",
    "cell_format = workbook.add_format([properties])\t\t# 속성을 지정\n",
    "[cell_format.method()]\t\t\t\t# 메서드 서식 추가 지정\n",
    "\n",
    "# 4) 워크시트의 셀에 서식을 지정해 쓰기 작업 수행\n",
    "worksheet.write(row, col, \"셀 데이터\", cell_format)\t\t# 셀 행과 열의 위치로 지정\n",
    "\t\t혹은\n",
    "worksheet.write(\"셀 주소\", \"셀 데이터\", cell_format))\t# 셀 주소로 지정\n",
    "\n",
    "# 5) 워크북 객체를 닫고 엑셀 파일 생성\n",
    "workbook.close()"
   ]
  },
  {
   "cell_type": "markdown",
   "id": "0df1f5ce",
   "metadata": {},
   "source": [
    "#### 셀 서식 지정"
   ]
  },
  {
   "cell_type": "code",
   "execution_count": null,
   "id": "90d2132d",
   "metadata": {},
   "outputs": [],
   "source": [
    "import xlsxwriter\n",
    "\n",
    "# 1) 생성할 엑셀 파일이름을 지정해 워크북 객체 생성\n",
    "wb = xlsxwriter.Workbook('chapter07/Xlsx_cellFormat.xlsx') \n",
    "\n",
    "# 2) 워크북 내에 사용할 워크시트 생성\n",
    "ws = wb.add_worksheet() \n",
    "\n",
    "# 3) 셀 서식 지정을 위한 서식 객체 생성\n",
    "# 속성: 텍스트 굵게, 글꼴 색은 파란색으로 속성을 지정해 서식 객체 생성\n",
    "cell_format = wb.add_format({'font_name': '바탕', \n",
    "                             'bold': True, \n",
    "                             'font_color': 'blue'})\n",
    "\n",
    "# 메서드를 이용해 서식 추가 지정(텍스트를 기울임꼴로 설정)\n",
    "cell_format.set_italic() \n",
    "\n",
    "# 메서드를 이용해 서식 추가 지정(글꼴 크기 지정)\n",
    "cell_format.set_font_size(20)\n",
    "\n",
    "# 4) 워크시트의 셀에 쓰기 작업 수행\n",
    "ws.write('A1', \"셀 서식 미지정\")\t\t\t\t\t# 서식 미지정\n",
    "ws.write('A2', \"셀 서식 지정\", cell_format)\t\t# 서식 지정\n",
    "\n",
    "# 5) 워크북 객체를 닫고 엑셀 파일 생성\n",
    "wb.close()"
   ]
  },
  {
   "cell_type": "markdown",
   "id": "c7881210",
   "metadata": {},
   "source": [
    "#### 셀에 그림 삽입"
   ]
  },
  {
   "cell_type": "code",
   "execution_count": null,
   "id": "963e56b2",
   "metadata": {},
   "outputs": [],
   "source": [
    "import xlsxwriter\n",
    "\n",
    "image_file = 'images/book_image.png' # 그림 파일\n",
    "\n",
    "# 1) 생성할 엑셀 파일이름을 지정해 워크북 객체 생성\n",
    "wb = xlsxwriter.Workbook('chapter07/Xlsx_image.xlsx') \n",
    "\n",
    "# 2) 워크북 내에 사용할 워크시트 생성\n",
    "ws = wb.add_worksheet() \n",
    "\n",
    "# 3) 필요 시 행과 열의 높이 지정\n",
    "ws.set_column(0, 0, 35) # 0열 (A열)의 너비 지정\n",
    "\n",
    "# 4) 워크시트의 셀에 쓰기와 이미지 삽입 작업 수행\n",
    "ws.write(1, 0, \"그림 삽입(옵션 지정 없음):\")   \n",
    "ws.insert_image(1, 1, image_file)\n",
    "\n",
    "ws.write(8, 0, \"그림 삽입(가로와 세로 위치 오프셋 조정):\")   \n",
    "ws.write(9, 0, \"{'x_offset': 25, 'y_offset': 10}\")  \n",
    "ws.insert_image(8, 1, image_file, {'x_offset': 25, 'y_offset': 10})\n",
    "\n",
    "ws.write(15, 0, \"그림 삽입(크기 확대):\")   \n",
    "ws.write(16, 0, \"{'x_scale': 1.5, 'y_scale': 1.5}\")   \n",
    "ws.insert_image(15, 1, image_file, {'x_scale': 1.5, 'y_scale': 1.5})\n",
    "\n",
    "ws.write(25, 0, \"그림 삽입(크기 축소):\")   \n",
    "ws.write(26, 0, \"{'x_scale': 0.75, 'y_scale': 0.7}\")   \n",
    "ws.insert_image(25, 1, image_file, {'x_scale': 0.75, 'y_scale': 0.7})\n",
    "\n",
    "# 5) 워크북 객체를 닫고 엑셀 파일 생성\n",
    "wb.close() "
   ]
  },
  {
   "cell_type": "markdown",
   "id": "5a6a9d82",
   "metadata": {},
   "source": [
    "## 7.3 시스템 제어하기"
   ]
  },
  {
   "cell_type": "markdown",
   "id": "3bc861b6",
   "metadata": {},
   "source": [
    "### 시스템 제어를 위한 pyautogui"
   ]
  },
  {
   "cell_type": "code",
   "execution_count": null,
   "id": "234b76fa",
   "metadata": {
    "scrolled": true
   },
   "outputs": [],
   "source": [
    "!pip install pyautogui"
   ]
  },
  {
   "cell_type": "code",
   "execution_count": null,
   "id": "c8409924",
   "metadata": {},
   "outputs": [],
   "source": [
    "# pyautogui 패키지 불러오기\n"
   ]
  },
  {
   "cell_type": "markdown",
   "id": "cdb2fd18",
   "metadata": {},
   "source": [
    "### 마우스 제어하기"
   ]
  },
  {
   "cell_type": "code",
   "execution_count": null,
   "id": "3251cd06",
   "metadata": {},
   "outputs": [],
   "source": [
    "pyautogui.size()"
   ]
  },
  {
   "cell_type": "code",
   "execution_count": null,
   "id": "ed187324",
   "metadata": {},
   "outputs": [],
   "source": [
    "pyautogui.position()"
   ]
  },
  {
   "cell_type": "markdown",
   "id": "939c7f4c",
   "metadata": {},
   "source": [
    "#### 사용자가 position 을 이동할 수 있는 시간을 벌자!!"
   ]
  },
  {
   "cell_type": "code",
   "execution_count": null,
   "id": "ce8fcbaf",
   "metadata": {},
   "outputs": [],
   "source": [
    "import pyautogui\t\t\t# pyautogui 패키지 로드\n",
    "# time 패키지 로드\n",
    "\n",
    "# 3초 동안 대기(원하는 위치로 마우스를 이동)\n",
    "\n",
    "pyautogui.position()\t\t# 마우스 포지션 반환"
   ]
  },
  {
   "cell_type": "code",
   "execution_count": null,
   "id": "939403b0",
   "metadata": {},
   "outputs": [],
   "source": [
    "pyautogui.moveTo(100, 200)  # 마우스 커서가 X, Y 좌표(100, 200)로 이동\n",
    "pyautogui.position()"
   ]
  },
  {
   "cell_type": "code",
   "execution_count": null,
   "id": "432efb79",
   "metadata": {},
   "outputs": [],
   "source": [
    "pyautogui.moveTo(100, 400, 3)  # 마우스 커서가 X, Y 좌표(100, 400)로 3초 동안 이동"
   ]
  },
  {
   "cell_type": "code",
   "execution_count": null,
   "id": "44979a4d",
   "metadata": {},
   "outputs": [],
   "source": [
    "pyautogui.move(0, 200) \t\t\t# 현재 위치에서 아래로(Y 좌표만) 200 이동\n",
    "pyautogui.move(100, 200)  \t\t# 현재 위치에서 우측으로(X 좌표) 100, 아래로(Y 좌표) 200 이동\n",
    "pyautogui.move(100, 200, 3) \t# 현재 위치에서 우측으로 100, 아래로 200, 3초 동안 이동\n",
    "pyautogui.position()"
   ]
  },
  {
   "cell_type": "code",
   "execution_count": null,
   "id": "a3896c00",
   "metadata": {},
   "outputs": [],
   "source": [
    "pyautogui.dragTo(500, 500, button = \"left\")\t\t# 현재 위치에서 X, Y(500, 500) 좌표로 드래그\n",
    "pyautogui.dragTo(300, 300, 2, button = \"left\")\t# 현재 위치에서 X, Y(300, 300) 좌표로 2초 동안 드래그\n",
    "pyautogui.drag(100, 0, 2, button = \"left\")\t\t# 현재 위치에서 우측으로 100, 2초 동안 드래그"
   ]
  },
  {
   "cell_type": "code",
   "execution_count": null,
   "id": "2631826b",
   "metadata": {},
   "outputs": [],
   "source": [
    "pyautogui.click()"
   ]
  },
  {
   "cell_type": "code",
   "execution_count": null,
   "id": "0170f776",
   "metadata": {},
   "outputs": [],
   "source": [
    "pyautogui.click(x = 100, y = 200) \t\t # X, Y(100, 200) 좌표를 클릭"
   ]
  },
  {
   "cell_type": "code",
   "execution_count": null,
   "id": "9c9fcd8b",
   "metadata": {},
   "outputs": [],
   "source": [
    "pyautogui.click(button = \"right\") \t\t # 마우스 오른쪽 버튼 클릭"
   ]
  },
  {
   "cell_type": "code",
   "execution_count": null,
   "id": "0e730e52",
   "metadata": {},
   "outputs": [],
   "source": [
    "pyautogui.click(clicks = 2) \t\t\t\t\t\t\t\t\t\t# 2번 클릭하는 것으로 더블클릭과 동일\n",
    "pyautogui.click(clicks = 2, interval = 0.25) \t\t\t\t\t\t# 더블 클릭을 하되 클릭 사이에 0.25초 간격 지정\n",
    "pyautogui.click(button = \"right\", clicks = 3, interval = 0.25)\t\t# 마우스 오른쪽 버튼을 0.25초 간격으로 3번 클릭"
   ]
  },
  {
   "cell_type": "code",
   "execution_count": null,
   "id": "601f7be9",
   "metadata": {},
   "outputs": [],
   "source": [
    "pyautogui.doubleClick() \t\t\t\t# 더블 클릭 전용 함수\n",
    "pyautogui.tripleClick() \t\t\t\t# 트리플 클릭 전용 함수"
   ]
  },
  {
   "cell_type": "code",
   "execution_count": null,
   "id": "cc6cfba3",
   "metadata": {},
   "outputs": [],
   "source": [
    "pyautogui.mouseDown() \t\t\t\t\t\t\t\t\t\t# 현재 위치에서 마우스 왼쪽 버튼 누르기\n",
    "pyautogui.mouseUp() \t\t\t\t\t\t\t\t\t\t# 현재 위치에서 눌러진 마우스 왼쪽 버튼 놓기\n",
    "pyautogui.mouseDown(button = \"right\")\t\t\t\t\t\t# 현재 위치에서 마우스 오른쪽 버튼 누르기\n",
    "pyautogui.mouseUp(button = \"right\", x = 200, y = 300)\t\t# 지정 좌표에서 마우스 오른쪽 버튼 누르기"
   ]
  },
  {
   "cell_type": "code",
   "execution_count": null,
   "id": "f5dcdcad",
   "metadata": {},
   "outputs": [],
   "source": [
    "pyautogui.scroll(10)\t\t\t\t\t\t\t# 10만큼 위로 스크롤\n",
    "pyautogui.scroll(-15) \t\t\t\t\t\t\t# 15만큼 아래로 스크롤\n",
    "pyautogui.scroll(10, x = 200, y = 200) \t\t\t# X, Y(200, 200) 좌표에서 10만큼 위로 스크롤"
   ]
  },
  {
   "cell_type": "markdown",
   "id": "9d9f32f9",
   "metadata": {},
   "source": [
    "### 키보드 제어하기"
   ]
  },
  {
   "cell_type": "markdown",
   "id": "b00d36c4",
   "metadata": {},
   "source": [
    "#### [File]-[New Notebook] 을 실행해 새 노트북 파일에서 단계적으로 실행해본다\n",
    "- 슬라이드49쪽 내용은 별도의 노드북 파일을 열어 실행한다."
   ]
  },
  {
   "cell_type": "code",
   "execution_count": null,
   "id": "a416f97e",
   "metadata": {},
   "outputs": [],
   "source": []
  },
  {
   "cell_type": "markdown",
   "id": "4194e375",
   "metadata": {},
   "source": [
    "#### pyperclip : pyautogui는 한글이 적용되지 않으므로 복사하여 붙여넣기를 이용한다.\n",
    "- 아래 cell을 수행한 후 그 다음 cell 에서 [ctrl+[v] 을 실행한다"
   ]
  },
  {
   "cell_type": "code",
   "execution_count": null,
   "id": "787ccbf8",
   "metadata": {},
   "outputs": [],
   "source": [
    "import pyperclip\n",
    "pyperclip.copy(\"안녕하세요\")\t\t\t# 클립보드에 텍스트를 복사\n",
    "pyautogui.hotkey('ctrl', 'v')\t\t# 붙여 넣기"
   ]
  },
  {
   "cell_type": "code",
   "execution_count": null,
   "id": "0ee52a86",
   "metadata": {},
   "outputs": [],
   "source": []
  },
  {
   "cell_type": "markdown",
   "id": "adf8370e",
   "metadata": {},
   "source": [
    "#### hotkey() : 여러 키를 동시에 입력해야할 때, 윈도우의 단축키를 사용할 수 있는 함수\n",
    "- 키보드 제어함수에 사용할 수 있는 키의 공식 문서\n",
    "https://pyautogui.readthedocs.io/en/latest/keyboard.html"
   ]
  },
  {
   "cell_type": "markdown",
   "id": "1d31c0a8",
   "metadata": {},
   "source": [
    "#### keyDown(), keyUp()  : 특정 키를 누르고 있거나 떼는 기능으로 [shift], [alt], [ctrl] 키를 누를 때 많이 사용\n",
    "- **지금은 실행하지 마세요 **"
   ]
  },
  {
   "cell_type": "code",
   "execution_count": null,
   "id": "7113b2ad",
   "metadata": {},
   "outputs": [],
   "source": [
    "pyautogui.keyDown(\"shift\")\t\t\t# shift 키를 누른 상태를 유지\n",
    "pyautogui.keyUp(\"shift\")\t\t\t# 누른 shift 키를 뗌"
   ]
  },
  {
   "cell_type": "markdown",
   "id": "b54a7ba6",
   "metadata": {},
   "source": [
    "#### press() : 키보드의 키를 눌렀다가 떼는 함수로 keyDown()과 keyUp()을 함께 사용한 것과 동일"
   ]
  },
  {
   "cell_type": "code",
   "execution_count": null,
   "id": "7141b1ab",
   "metadata": {},
   "outputs": [],
   "source": [
    "pyautogui.press(\"shift\")\t\t\t# shift 키를 누름(눌렀다가 뗌)"
   ]
  },
  {
   "cell_type": "code",
   "execution_count": null,
   "id": "9d876a96",
   "metadata": {},
   "outputs": [],
   "source": [
    "pyautogui.keyDown(\"ctrl\")\t\t# Ctrl 키를 누르고 있음\n",
    "pyautogui.press(\"c\")\t\t\t# C 키를 한 번 눌렀다가 뗌\n",
    "pyautogui.keyUp(\"ctrl\")\t\t\t# 누르고 있던 Ctrl 키를 뗌"
   ]
  },
  {
   "cell_type": "code",
   "execution_count": null,
   "id": "1dd1e0a7",
   "metadata": {},
   "outputs": [],
   "source": [
    "# [Shift] 키를 누른 상태에서 [<--] 키를 3번 누른 경우\n",
    "pyautogui.keyDown(\"shift\")\t\t# shift 키를 누르고 있음\n",
    "pyautogui.press(\"left\")\t\t\t# 왼쪽 화살표 키를 한 번 눌렀다가 뗌\n",
    "pyautogui.press(\"left\")\t\t\t# 왼쪽 화살표 키를 한 번 눌렀다가 뗌\n",
    "pyautogui.press(\"left\")\t\t\t# 왼쪽 화살표 키를 한 번 눌렀다가 뗌\n",
    "pyautogui.keyUp(\"shift\")\t\t# 누르고 있던 shift 키를 뗌"
   ]
  },
  {
   "cell_type": "code",
   "execution_count": null,
   "id": "7aa0682e",
   "metadata": {},
   "outputs": [],
   "source": [
    "# 한번에 해결하는 방법\n",
    "pyautogui.press([\"left\", \"left\", \"left\"])\t\t# 왼쪽 화살표 키를 세 번 눌렀다가 뗌"
   ]
  },
  {
   "cell_type": "markdown",
   "id": "8745a547",
   "metadata": {},
   "source": [
    "### 메시지 박스"
   ]
  },
  {
   "cell_type": "code",
   "execution_count": null,
   "id": "7a739178",
   "metadata": {},
   "outputs": [],
   "source": [
    "pyautogui.alert(text = \"alert 함수입니다.\", title = \"alert 함수\", button = \"OK\")\n",
    "# [확인]을 클릭하면 \"OK\"가 출력됨"
   ]
  },
  {
   "cell_type": "code",
   "execution_count": null,
   "id": "27414524",
   "metadata": {},
   "outputs": [],
   "source": [
    "pyautogui.confirm(text = \"confirm 함수입니다.\", title = \"confirm 함수\", buttons = [\"OK\", \"Cancel\"])\n",
    "# [확인]을 클릭하면 \"OK\"가, [취소]를 클릭하면 \"Cancel\"이 출력됨"
   ]
  },
  {
   "cell_type": "code",
   "execution_count": null,
   "id": "52e66221",
   "metadata": {},
   "outputs": [],
   "source": [
    "pyautogui.prompt(text = \"prompt 함수입니다.\", title = \"prompt 함수\", default = \"ID\")\n",
    "# 텍스트를 입력하면 입력한 텍스트를 반환함"
   ]
  },
  {
   "cell_type": "code",
   "execution_count": null,
   "id": "bc57f3d0",
   "metadata": {},
   "outputs": [],
   "source": [
    "pyautogui.password(text = \"패스워드를 입력하세요.\", title = \"로그인\", mask = \"*\")\n",
    "# 패스워드 입력 후 [OK]를 클릭하면 입력한 텍스트를 반환함"
   ]
  },
  {
   "cell_type": "markdown",
   "id": "0e569a98",
   "metadata": {},
   "source": [
    "## 스크린 샷 "
   ]
  },
  {
   "cell_type": "code",
   "execution_count": null,
   "id": "92ff04f9",
   "metadata": {},
   "outputs": [],
   "source": [
    "!pip install pillow"
   ]
  },
  {
   "cell_type": "code",
   "execution_count": null,
   "id": "77bc4610",
   "metadata": {},
   "outputs": [],
   "source": [
    "import pyautogui\n",
    "from PIL import Image"
   ]
  },
  {
   "cell_type": "code",
   "execution_count": null,
   "id": "b1ec3182",
   "metadata": {},
   "outputs": [],
   "source": [
    "image1 = pyautogui.screenshot()\t\t# 전체 화면을 캡처하여 image1에 저장\n",
    "print(image1)\t\t\t\t\t\t# 이미지 정보 출력"
   ]
  },
  {
   "cell_type": "code",
   "execution_count": null,
   "id": "fcf64780",
   "metadata": {},
   "outputs": [],
   "source": [
    "# 전체 화면을 캡처하여 지정한 폴더에 \"screenshot.png\" 파일로 저장\n",
    "image2 = pyautogui.screenshot(\"chapter07/screenshot.png\")"
   ]
  },
  {
   "cell_type": "code",
   "execution_count": null,
   "id": "b0cd86c9",
   "metadata": {},
   "outputs": [],
   "source": [
    "image3 = pyautogui.screenshot(region=(0, 0, 300, 400)) \t# region= (x, y, width, height)\n",
    "print(image3)   # 이미지 정보 출력"
   ]
  },
  {
   "cell_type": "code",
   "execution_count": null,
   "id": "9a5c87e4",
   "metadata": {
    "scrolled": true
   },
   "outputs": [],
   "source": [
    "import matplotlib.pyplot as plt\t\t\t# matplotlib 패키지 불러오기\n",
    "plt.imshow(image3)\t\t\t\t\t\t# plt.imshow() 함수로 이미지 출력하기"
   ]
  },
  {
   "cell_type": "code",
   "execution_count": null,
   "id": "4dec4b00",
   "metadata": {},
   "outputs": [],
   "source": [
    "image4 = pyautogui.screenshot(region=(0, 0, 1900, 900)) \t# region= (x, y, width, height)\n",
    "print(image4)   # 이미지 정보 출력"
   ]
  },
  {
   "cell_type": "code",
   "execution_count": null,
   "id": "01810697",
   "metadata": {},
   "outputs": [],
   "source": [
    "import matplotlib.pyplot as plt\t\t\t# matplotlib 패키지 불러오기\n",
    "plt.imshow(image4)\t\t\t\t\t\t# plt.imshow() 함수로 이미지 출력하기"
   ]
  }
 ],
 "metadata": {
  "kernelspec": {
   "display_name": "Python 3 (ipykernel)",
   "language": "python",
   "name": "python3"
  },
  "language_info": {
   "codemirror_mode": {
    "name": "ipython",
    "version": 3
   },
   "file_extension": ".py",
   "mimetype": "text/x-python",
   "name": "python",
   "nbconvert_exporter": "python",
   "pygments_lexer": "ipython3",
   "version": "3.10.4"
  }
 },
 "nbformat": 4,
 "nbformat_minor": 5
}
