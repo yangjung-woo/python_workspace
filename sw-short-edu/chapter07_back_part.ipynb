{
 "cells": [
  {
   "cell_type": "markdown",
   "id": "2f369a2d",
   "metadata": {},
   "source": [
    "# Chapter 07 문서 업무 자동화"
   ]
  },
  {
   "cell_type": "markdown",
   "id": "5a6a9d82",
   "metadata": {},
   "source": [
    "## 7.3 시스템 제어하기"
   ]
  },
  {
   "cell_type": "markdown",
   "id": "3bc861b6",
   "metadata": {},
   "source": [
    "### 시스템 제어를 위한 pyautogui"
   ]
  },
  {
   "cell_type": "code",
   "execution_count": null,
   "id": "234b76fa",
   "metadata": {
    "scrolled": true
   },
   "outputs": [],
   "source": [
    "!pip install pyautogui"
   ]
  },
  {
   "cell_type": "code",
   "execution_count": null,
   "id": "c8409924",
   "metadata": {},
   "outputs": [],
   "source": [
    "import pyautogui\t# pyautogui 패키지 불러오기"
   ]
  },
  {
   "cell_type": "markdown",
   "id": "cdb2fd18",
   "metadata": {},
   "source": [
    "### 마우스 제어하기"
   ]
  },
  {
   "cell_type": "code",
   "execution_count": null,
   "id": "3251cd06",
   "metadata": {},
   "outputs": [],
   "source": [
    "pyautogui.size()"
   ]
  },
  {
   "cell_type": "code",
   "execution_count": null,
   "id": "ed187324",
   "metadata": {},
   "outputs": [],
   "source": [
    "pyautogui.position()"
   ]
  },
  {
   "cell_type": "markdown",
   "id": "939c7f4c",
   "metadata": {},
   "source": [
    "#### 사용자가 position 을 이동할 수 있는 시간을 벌자!!"
   ]
  },
  {
   "cell_type": "code",
   "execution_count": null,
   "id": "ce8fcbaf",
   "metadata": {},
   "outputs": [],
   "source": [
    "import time\t\t\t\t\t# time 패키지 로드\n",
    "time.sleep(3)  \t\t\t\t# 3초 동안 대기(원하는 위치로 마우스를 이동)\n",
    "pyautogui.position()\t\t# 마우스 포지션 반환"
   ]
  },
  {
   "cell_type": "code",
   "execution_count": null,
   "id": "939403b0",
   "metadata": {},
   "outputs": [],
   "source": [
    "pyautogui.moveTo(100, 200)\t# 마우스 커서가 X, Y 좌표(100, 200)로 이동\n",
    "pyautogui.position()"
   ]
  },
  {
   "cell_type": "code",
   "execution_count": null,
   "id": "432efb79",
   "metadata": {},
   "outputs": [],
   "source": [
    "pyautogui.moveTo(100, 400, 3)\t# 마우스 커서가 X, Y 좌표(100, 400)로 3초 동안 이동"
   ]
  },
  {
   "cell_type": "code",
   "execution_count": null,
   "id": "44979a4d",
   "metadata": {},
   "outputs": [],
   "source": [
    "pyautogui.move(0, 200)\t\t\t# 현재 위치에서 아래로(Y 좌표만) 200 이동\n",
    "pyautogui.move(100, 200)\t\t# 현재 위치에서 우측으로(X 좌표) 100, 아래로(Y 좌표) 200 이동\n",
    "pyautogui.move(100, 200, 3)\t\t# 현재 위치에서 우측으로 100, 아래로 200, 3초 동안 이동\n",
    "pyautogui.position()"
   ]
  },
  {
   "cell_type": "code",
   "execution_count": null,
   "id": "a3896c00",
   "metadata": {},
   "outputs": [],
   "source": [
    "pyautogui.dragTo(500, 500, button = \"left\")\t\t# 현재 위치에서 X, Y(500, 500) 좌표로 드래그\n",
    "pyautogui.dragTo(300, 300, 2, button = \"left\")\t# 현재 위치에서 X, Y(300, 300) 좌표로 2초 동안 드래그\n",
    "pyautogui.drag(100, 0, 2, button = \"left\")\t\t# 현재 위치에서 우측으로 100, 2초 동안 드래그"
   ]
  },
  {
   "cell_type": "code",
   "execution_count": null,
   "id": "2631826b",
   "metadata": {},
   "outputs": [],
   "source": [
    "pyautogui.click()"
   ]
  },
  {
   "cell_type": "code",
   "execution_count": null,
   "id": "0170f776",
   "metadata": {},
   "outputs": [],
   "source": [
    "pyautogui.click(x = 100, y = 200) \t\t # X, Y(100, 200) 좌표를 클릭"
   ]
  },
  {
   "cell_type": "code",
   "execution_count": null,
   "id": "9c9fcd8b",
   "metadata": {},
   "outputs": [],
   "source": [
    "pyautogui.click(button = \"right\") \t\t # 마우스 오른쪽 버튼 클릭"
   ]
  },
  {
   "cell_type": "code",
   "execution_count": null,
   "id": "0e730e52",
   "metadata": {},
   "outputs": [],
   "source": [
    "pyautogui.click(clicks = 2) \t\t\t\t\t\t\t\t\t\t# 2번 클릭하는 것으로 더블클릭과 동일\n",
    "pyautogui.click(clicks = 2, interval = 0.25) \t\t\t\t\t\t# 더블 클릭을 하되 클릭 사이에 0.25초 간격 지정\n",
    "pyautogui.click(button = \"right\", clicks = 3, interval = 0.25)\t\t# 마우스 오른쪽 버튼을 0.25초 간격으로 3번 클릭"
   ]
  },
  {
   "cell_type": "code",
   "execution_count": null,
   "id": "601f7be9",
   "metadata": {},
   "outputs": [],
   "source": [
    "pyautogui.doubleClick() \t\t\t\t# 더블 클릭 전용 함수\n",
    "pyautogui.tripleClick() \t\t\t\t# 트리플 클릭 전용 함수"
   ]
  },
  {
   "cell_type": "code",
   "execution_count": null,
   "id": "cc6cfba3",
   "metadata": {},
   "outputs": [],
   "source": [
    "pyautogui.mouseDown() \t\t\t\t\t\t\t\t\t\t# 현재 위치에서 마우스 왼쪽 버튼 누르기\n",
    "pyautogui.mouseUp() \t\t\t\t\t\t\t\t\t\t# 현재 위치에서 눌러진 마우스 왼쪽 버튼 놓기\n",
    "pyautogui.mouseDown(button = \"right\")\t\t\t\t\t\t# 현재 위치에서 마우스 오른쪽 버튼 누르기\n",
    "pyautogui.mouseUp(button = \"right\", x = 200, y = 300)\t\t# 지정 좌표에서 마우스 오른쪽 버튼 누르기"
   ]
  },
  {
   "cell_type": "code",
   "execution_count": null,
   "id": "f5dcdcad",
   "metadata": {},
   "outputs": [],
   "source": [
    "pyautogui.scroll(10)\t\t\t\t\t\t\t# 10만큼 위로 스크롤\n",
    "pyautogui.scroll(-15) \t\t\t\t\t\t\t# 15만큼 아래로 스크롤\n",
    "pyautogui.scroll(10, x = 200, y = 200) \t\t\t# X, Y(200, 200) 좌표에서 10만큼 위로 스크롤"
   ]
  },
  {
   "cell_type": "markdown",
   "id": "9d9f32f9",
   "metadata": {},
   "source": [
    "### 키보드 제어하기"
   ]
  },
  {
   "cell_type": "markdown",
   "id": "b00d36c4",
   "metadata": {},
   "source": [
    "##### [File]-[New Notebook] 을 실행해 새 노트북 파일에서 단계적으로 실행해본다\n",
    "- 슬라이드45, 46 쪽 내용은 별도의 노드북 파일을 열어 실행한다."
   ]
  },
  {
   "cell_type": "markdown",
   "id": "4194e375",
   "metadata": {},
   "source": [
    "#### pyperclip : pyautogui는 한글이 적용되지 않으므로 복사하여 붙여넣기를 이용한다."
   ]
  },
  {
   "cell_type": "markdown",
   "id": "adf8370e",
   "metadata": {},
   "source": [
    "#### hotkey() : 여러 키를 동시에 입력해야할 때, 윈도우의 단축키를 사용할 수 있는 함수\n",
    "- 키보드 제어함수에 사용할 수 있는 키의 공식 문서\n",
    "https://pyautogui.readthedocs.io/en/latest/keyboard.html  \n",
    "- 여기까지 새로운 파일에서 실행한다.  \n",
    ".........................."
   ]
  },
  {
   "cell_type": "markdown",
   "id": "1d31c0a8",
   "metadata": {},
   "source": [
    "#### keyDown(), keyUp()  : 특정 키를 누르고 있거나 떼는 기능으로 [shift], [alt], [ctrl] 키를 누를 때 많이 사용\n",
    "- 아래 첫번째 cell을 실행 한 후에는 [shift] 키나 눌려진 상태이므로, 그다음 cell을 실행해야만 정상적으로 돌아온다"
   ]
  },
  {
   "cell_type": "code",
   "execution_count": 5,
   "id": "b4437cd6",
   "metadata": {},
   "outputs": [],
   "source": [
    "import pyautogui\n",
    "pyautogui.keyDown(\"shift\")\t\t\t# shift 키를 누른 상태를 유지"
   ]
  },
  {
   "cell_type": "code",
   "execution_count": 6,
   "id": "7113b2ad",
   "metadata": {},
   "outputs": [],
   "source": [
    "pyautogui.keyUp(\"shift\")\t\t\t# 누른 shift 키를 뗌"
   ]
  },
  {
   "cell_type": "markdown",
   "id": "b54a7ba6",
   "metadata": {},
   "source": [
    "#### press() : 키보드의 키를 눌렀다가 떼는 함수로 keyDown()과 keyUp()을 함께 사용한 것과 동일"
   ]
  },
  {
   "cell_type": "code",
   "execution_count": null,
   "id": "7141b1ab",
   "metadata": {},
   "outputs": [],
   "source": [
    "pyautogui.press(\"shift\")\t\t\t# shift 키를 누름(눌렀다가 뗌)"
   ]
  },
  {
   "cell_type": "code",
   "execution_count": null,
   "id": "9d876a96",
   "metadata": {},
   "outputs": [],
   "source": [
    "# 이 cell을 실행하면 그 다음에 있는 cell의 내용을 복사하는 효과임. \n",
    "pyautogui.keyDown(\"ctrl\")\t\t# Ctrl 키를 누르고 있음\n",
    "pyautogui.press(\"c\")\t\t\t# C 키를 한 번 눌렀다가 뗌\n",
    "pyautogui.keyUp(\"ctrl\")\t\t\t# 누르고 있던 Ctrl 키를 뗌"
   ]
  },
  {
   "cell_type": "raw",
   "id": "ac2a201c",
   "metadata": {},
   "source": [
    "이 내용을 복사할까? 다음 cell에서 [Ctrl]+[v] 해서 확인하자."
   ]
  },
  {
   "cell_type": "raw",
   "id": "ef013830",
   "metadata": {},
   "source": []
  },
  {
   "cell_type": "code",
   "execution_count": null,
   "id": "1dd1e0a7",
   "metadata": {},
   "outputs": [],
   "source": [
    "# [Shift] 키를 누른 상태에서 [<--] 키를 3번 누른 경우\n",
    "pyautogui.keyDown(\"shift\")\t\t# shift 키를 누르고 있음\n",
    "pyautogui.press(\"left\")\t\t\t# 왼쪽 화살표 키를 한 번 눌렀다가 뗌\n",
    "pyautogui.press(\"left\")\t\t\t# 왼쪽 화살표 키를 한 번 눌렀다가 뗌\n",
    "pyautogui.press(\"left\")\t\t\t# 왼쪽 화살표 키를 한 번 눌렀다가 뗌\n",
    "pyautogui.keyUp(\"shift\")\t\t# 누르고 있던 shift 키를 뗌"
   ]
  },
  {
   "cell_type": "code",
   "execution_count": null,
   "id": "7aa0682e",
   "metadata": {},
   "outputs": [],
   "source": [
    "# 한번에 해결하는 방법\n",
    "pyautogui.press([\"left\", \"left\", \"left\"])\t\t# 왼쪽 화살표 키를 세 번 눌렀다가 뗌"
   ]
  },
  {
   "cell_type": "markdown",
   "id": "8745a547",
   "metadata": {},
   "source": [
    "### 메시지 박스"
   ]
  },
  {
   "cell_type": "code",
   "execution_count": null,
   "id": "7a739178",
   "metadata": {},
   "outputs": [],
   "source": [
    "pyautogui.alert(text = \"alert 함수입니다.\", title = \"alert 함수\", button = \"OK\")\n",
    "# [확인]을 클릭하면 \"OK\"가 출력됨"
   ]
  },
  {
   "cell_type": "code",
   "execution_count": null,
   "id": "27414524",
   "metadata": {},
   "outputs": [],
   "source": [
    "pyautogui.confirm(text = \"confirm 함수입니다.\", title = \"confirm 함수\", buttons = [\"OK\", \"Cancel\"])\n",
    "# [확인]을 클릭하면 \"OK\"가, [취소]를 클릭하면 \"Cancel\"이 출력됨"
   ]
  },
  {
   "cell_type": "code",
   "execution_count": null,
   "id": "52e66221",
   "metadata": {},
   "outputs": [],
   "source": [
    "pyautogui.prompt(text = \"prompt 함수입니다.\", title = \"prompt 함수\", default = \"ID\")\n",
    "# 텍스트를 입력하면 입력한 텍스트를 반환함"
   ]
  },
  {
   "cell_type": "code",
   "execution_count": null,
   "id": "bc57f3d0",
   "metadata": {},
   "outputs": [],
   "source": [
    "pyautogui.password(text = \"패스워드를 입력하세요.\", title = \"로그인\", mask = \"*\")\n",
    "# 패스워드 입력 후 [OK]를 클릭하면 입력한 텍스트를 반환함"
   ]
  },
  {
   "cell_type": "markdown",
   "id": "0e569a98",
   "metadata": {},
   "source": [
    "## 스크린 샷 "
   ]
  },
  {
   "cell_type": "code",
   "execution_count": null,
   "id": "92ff04f9",
   "metadata": {},
   "outputs": [],
   "source": [
    "!pip install pillow"
   ]
  },
  {
   "cell_type": "code",
   "execution_count": null,
   "id": "77bc4610",
   "metadata": {},
   "outputs": [],
   "source": [
    "import pyautogui\n",
    "from PIL import Image"
   ]
  },
  {
   "cell_type": "code",
   "execution_count": null,
   "id": "b1ec3182",
   "metadata": {},
   "outputs": [],
   "source": [
    "image1 = pyautogui.screenshot()\t\t# 전체 화면을 캡처하여 image1에 저장\n",
    "print(image1)\t\t\t\t\t\t# 이미지 정보 출력"
   ]
  },
  {
   "cell_type": "code",
   "execution_count": null,
   "id": "fcf64780",
   "metadata": {},
   "outputs": [],
   "source": [
    "# 전체 화면을 캡처하여 지정한 폴더에 \"screenshot.png\" 파일로 저장\n",
    "image2 = pyautogui.screenshot(\"chapter07/screenshot.png\")"
   ]
  },
  {
   "cell_type": "code",
   "execution_count": null,
   "id": "b0cd86c9",
   "metadata": {},
   "outputs": [],
   "source": [
    "image3 = pyautogui.screenshot(region=(0, 0, 300, 400)) \t# region= (x, y, width, height)\n",
    "print(image3)   # 이미지 정보 출력"
   ]
  },
  {
   "cell_type": "code",
   "execution_count": null,
   "id": "9a5c87e4",
   "metadata": {
    "scrolled": true
   },
   "outputs": [],
   "source": [
    "import matplotlib.pyplot as plt\t\t\t# matplotlib 패키지 불러오기\n",
    "plt.imshow(image3)\t\t\t\t\t\t# plt.imshow() 함수로 이미지 출력하기"
   ]
  },
  {
   "cell_type": "code",
   "execution_count": null,
   "id": "4dec4b00",
   "metadata": {},
   "outputs": [],
   "source": [
    "image4 = pyautogui.screenshot(region=(0, 0, 1900, 900)) \t# region= (x, y, width, height)\n",
    "print(image4)   # 이미지 정보 출력"
   ]
  },
  {
   "cell_type": "code",
   "execution_count": null,
   "id": "01810697",
   "metadata": {},
   "outputs": [],
   "source": [
    "import matplotlib.pyplot as plt\t\t\t# matplotlib 패키지 불러오기\n",
    "plt.imshow(image4)\t\t\t\t\t\t# plt.imshow() 함수로 이미지 출력하기"
   ]
  },
  {
   "cell_type": "raw",
   "id": "6355b0c7",
   "metadata": {},
   "source": [
    "--------------------------------------------------------"
   ]
  },
  {
   "cell_type": "markdown",
   "id": "79ffd938",
   "metadata": {},
   "source": [
    "# 네이버 날씨 연속으로 자동 캡처 하기\n",
    "- 7장 슬라이드의 마지막을 꼭 참조해서 실행해야 한다."
   ]
  },
  {
   "cell_type": "markdown",
   "id": "ae52f7bf",
   "metadata": {},
   "source": [
    "### 네이버 화면을 실행하여 날씨 정보 영역의 시작/끝 좌표를 얻어 프로그램에 반영한다"
   ]
  },
  {
   "cell_type": "code",
   "execution_count": null,
   "id": "bbc352fa",
   "metadata": {},
   "outputs": [],
   "source": [
    "import pyautogui\t\t# pyautogui 패키지 불러오기\n",
    "import time\t\t\t\t# time 패키지 불러오기\n",
    "import datetime\t\t\t# datetime 패키지 불러오기"
   ]
  },
  {
   "cell_type": "code",
   "execution_count": null,
   "id": "257dbbe5",
   "metadata": {},
   "outputs": [],
   "source": [
    "# 캡쳐할 영역의 시작 좌표 얻기 --> 시작 위치로 가서 기다린 후 좌표값을 기억하자\n",
    "time.sleep(5)\n",
    "pyautogui.position()"
   ]
  },
  {
   "cell_type": "code",
   "execution_count": null,
   "id": "05cc9878",
   "metadata": {},
   "outputs": [],
   "source": [
    "# 캡쳐할 영역의 끝 좌표 얻기 --> 끝 위치로 가서 기다린 후 좌표값을기억하자\n",
    "time.sleep(5)\n",
    "pyautogui.position()"
   ]
  },
  {
   "cell_type": "markdown",
   "id": "4cfd7ad4",
   "metadata": {},
   "source": [
    "### 단계별로 코드를 작성하지만 하나의 모듈로 실행한다.\n",
    "최종 프로그램이  실행되는 동안 마우스나 키보드를 건드리면 안된다."
   ]
  },
  {
   "cell_type": "code",
   "execution_count": null,
   "id": "8bbacc27",
   "metadata": {},
   "outputs": [],
   "source": [
    "# 패키지 불러오기\n",
    "import pyautogui\n",
    "import time\n",
    "import datetime\n",
    "\n",
    "# 캡처 횟수 입력 받기\n",
    "str_cap_num = pyautogui.prompt(text = \"몇 번 캡처할지 입력해 주세요\", title = \"캡처 횟수\", default = \"\")\n",
    "int_cap_num = int(str_cap_num)\t\t# 변수 int_cap_num에 캡처 횟수 저장\n",
    "\n",
    "# 캡처 횟수 반복문 설정하기\n",
    "i = 0\t\t\t\t\t\t\t# 반복문 카운터로 사용할 변수 초기화\n",
    "while i < int_cap_num:\t\t\t# 사용자로부터 입력받은 캡처 횟수만큼 반복\n",
    "    i = i + 1\t\t\t\t\t# 카운터 1씩 증가\n",
    "    \n",
    "    # 캡처 도구 실행하기\n",
    "    pyautogui.hotkey(\"win\", \"s\")\t# 핫키 Win + S 실행\n",
    "    time.sleep(0.5)\t\t\t\t\t# 0.5초 지연\n",
    "    pyautogui.write(\"snippingtool\")\t# 이미지 캡처 도구를 실행하기 위해 입력\n",
    "    pyautogui.press(\"enter\")\t\t# Enter 키 입력\n",
    "    time.sleep(1)\t\t\t\t\t# 1초 지연\n",
    "\n",
    "    # 캡처 버튼 실행하기\n",
    "    pyautogui.hotkey(\"alt\", \"n\")\t# \"새 캡처\" 버튼 실행\n",
    "    time.sleep(1)\n",
    "\n",
    "    # 날씨 영역 캡처하기 : 위에서 미리 얻어 놓은 시작/끝 좌표를 입력합다.\n",
    "    pyautogui.moveTo(1271, 317)\t\t\t\t\t\t\t\t\t\t# 본인 화면의 시작 좌표값 설정\n",
    "    pyautogui.dragTo(1546, 355, duration = 2, button = \"left\") \t\t# 시작 좌표에서 본인 화면의 끝 좌표까지 마우스로 드래그\n",
    "    time.sleep(1)\t\t\t\t\t# 1초 지연\n",
    "\n",
    "    # 현재 일시를 활용한 파일 이름 지정하기    \n",
    "    now_date = datetime.datetime.now().strftime(\"%y%m%d_%H%M%S\")\n",
    "    file_name = \"weather_\" + now_date + \".png\"\t\t# 파일 이름 설정\n",
    "\n",
    "    # 캡처 이미지 저장하기    \n",
    "    pyautogui.hotkey(\"ctrl\", \"s\")\t\t\t# 캡쳐 도구의 저장하기(Ctrl + S) 실행\n",
    "    time.sleep(1)\t\t\t\t\t\t\t# 1초 지연\n",
    "    pyautogui.write(file_name)\t\t\t\t# file_name의 값을 화면에 입력\n",
    "    pyautogui.hotkey(\"alt\", \"s\")\t\t\t# 윈도우 파일 저장하기(Alt + S) 실행\n",
    "    time.sleep(1)\t\t\t\t\t\t\t# 1초 지연\n",
    "    \n",
    "    # 캡처 도구 닫기\n",
    "    pyautogui.hotkey(\"alt\", \"f\")\t\t\t# 파일 열기(Alt + F) 실행\n",
    "    time.sleep(1)\t\t\t\t\t\t\t# 1초 지연\n",
    "    pyautogui.press(\"x\")\t\t\t\t\t# 끝내기(x) 실행\n",
    "    time.sleep(3)\t\t\t\t\t\t\t# 3초 지연"
   ]
  }
 ],
 "metadata": {
  "kernelspec": {
   "display_name": "Python 3 (ipykernel)",
   "language": "python",
   "name": "python3"
  },
  "language_info": {
   "codemirror_mode": {
    "name": "ipython",
    "version": 3
   },
   "file_extension": ".py",
   "mimetype": "text/x-python",
   "name": "python",
   "nbconvert_exporter": "python",
   "pygments_lexer": "ipython3",
   "version": "3.10.4"
  }
 },
 "nbformat": 4,
 "nbformat_minor": 5
}
