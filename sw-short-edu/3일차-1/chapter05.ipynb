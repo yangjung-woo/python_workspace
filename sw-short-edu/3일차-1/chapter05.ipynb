{
 "cells": [
  {
   "cell_type": "markdown",
   "metadata": {},
   "source": [
    "# Chapter 05 업무에 자주 쓰는 실무 함수 구현하기"
   ]
  },
  {
   "cell_type": "markdown",
   "metadata": {},
   "source": [
    "## 5.1 동적 배열 함수"
   ]
  },
  {
   "cell_type": "markdown",
   "metadata": {},
   "source": [
    "### 실습 데이터 불러오기"
   ]
  },
  {
   "cell_type": "code",
   "execution_count": null,
   "metadata": {},
   "outputs": [],
   "source": [
    "import pandas as pd\t\t# pandas를 pd라는 이름으로 불러오기\n",
    "\n",
    "# 동적 배열 함수 실습을 위해 \"근무 유형.xlsx\" 파일을 불러와 work에 저장하기\n",
    "\n",
    "work.head(10)\t\t\t# 총 16행으로 구성, 상위 10행만 출력"
   ]
  },
  {
   "cell_type": "markdown",
   "metadata": {},
   "source": [
    "### 원하는 데이터 필터링하기"
   ]
  },
  {
   "cell_type": "code",
   "execution_count": null,
   "metadata": {},
   "outputs": [],
   "source": [
    "work =   # \"근무 유형.xlsx\" 파일의 \"Sheet1\" 데이터 읽어오기\n",
    "w1 =    # 부서명이 \"제조팀\"인 행 추출\n",
    "w2 =    # 근무형태가 \"상근\"인 행 추출\n",
    "display(w1, w2)\t\t\t# display() 여러개의 데이터 프레임을 한번에 출력. w1, w2 출력"
   ]
  },
  {
   "cell_type": "code",
   "execution_count": null,
   "metadata": {
    "scrolled": true
   },
   "outputs": [],
   "source": [
    "#\"부서\"가 \"제조팀\" 이거나 \"근무형태\" 가 \"교대\" 인 데이터 보기\n"
   ]
  },
  {
   "cell_type": "code",
   "execution_count": null,
   "metadata": {
    "scrolled": true
   },
   "outputs": [],
   "source": [
    "#\"근무 형태\"가 \"상근\" 이 아닌 데이터 보기\n"
   ]
  },
  {
   "cell_type": "markdown",
   "metadata": {},
   "source": [
    "### 기준 열로 정렬하기"
   ]
  },
  {
   "cell_type": "code",
   "execution_count": null,
   "metadata": {},
   "outputs": [],
   "source": [
    "work = \n",
    "# 사원번호 기준으로 오름차순 정렬\n"
   ]
  },
  {
   "cell_type": "code",
   "execution_count": null,
   "metadata": {
    "scrolled": true
   },
   "outputs": [],
   "source": [
    "# 인덱스 기준으로 오름차순 정렬해서 상위 5개의 자료 보기\n"
   ]
  },
  {
   "cell_type": "markdown",
   "metadata": {},
   "source": [
    "### 중복 행 확인 및 제거하기 : duplicated(), drop_duplicates()"
   ]
  },
  {
   "cell_type": "code",
   "execution_count": null,
   "metadata": {
    "scrolled": true
   },
   "outputs": [],
   "source": [
    "work = pd.read_excel(r\"chapter05/근무 유형.xlsx\", sheet_name = \"Sheet1\")\n",
    "work"
   ]
  },
  {
   "cell_type": "code",
   "execution_count": null,
   "metadata": {},
   "outputs": [],
   "source": [
    "# 중복 행을 True로 출력\n"
   ]
  },
  {
   "cell_type": "code",
   "execution_count": null,
   "metadata": {},
   "outputs": [],
   "source": [
    "# 중복 행 제거\n"
   ]
  },
  {
   "cell_type": "markdown",
   "metadata": {},
   "source": [
    "## 5.2 찾기 및 참조 함수"
   ]
  },
  {
   "cell_type": "markdown",
   "metadata": {},
   "source": [
    "### 데이터 파일 읽기"
   ]
  },
  {
   "cell_type": "code",
   "execution_count": null,
   "metadata": {},
   "outputs": [],
   "source": [
    "import pandas as pd     \n",
    "\n",
    "# 찾기 및 참조 함수 실습을 위해 \"식자재 주문.xlsl\"을 불러와 해당 시트를 각각 product, order에 저장하기\n",
    "product = \n",
    "order = \n",
    "display(product, order)"
   ]
  },
  {
   "cell_type": "markdown",
   "metadata": {},
   "source": [
    "### 특정 위치의 문자나 숫자를 인덱스로 지정하고, 인덱스를 원래의 값으로 변환하기 : map()"
   ]
  },
  {
   "cell_type": "code",
   "execution_count": null,
   "metadata": {},
   "outputs": [],
   "source": [
    "product = \n",
    "mapping = {\"1\":\"청주\", \"2\":\"대구\", \"3\":\"광주\"}     # 딕셔너리 자료형으로 Key : Value 정의\n",
    "product[\"공장\"] =     # 제품코드 마지막 값을 Key로 사용하여 Key에 해당하는 Value 반환\n",
    "product.head()"
   ]
  },
  {
   "cell_type": "markdown",
   "metadata": {},
   "source": [
    "### 원하는 값 찾기(참조) : set_index()"
   ]
  },
  {
   "cell_type": "code",
   "execution_count": null,
   "metadata": {
    "scrolled": true
   },
   "outputs": [],
   "source": [
    "product = \n",
    "order = \n",
    "# product[\"제품코드\"]를 인덱스로 설정\n",
    "\n",
    "# order[\"제품코드\"]를 인덱스로 설정\n",
    "\n",
    "order[\"제품명\"] =      # 동일 인덱스의 product[\"제품명\"]을 order에 추가\n",
    "order[\"단가\"] =        # 동일 인덱스의 product[\"단가\"]를 order에 추가\n",
    "order[\"주문금액\"] =    # 주문금액을 계산하여 order에 추가\n",
    "order"
   ]
  },
  {
   "cell_type": "code",
   "execution_count": null,
   "metadata": {},
   "outputs": [],
   "source": [
    "# inplace 생략시 인덱스 번호가 먼저 나옴\n",
    "product = \n",
    "order = \n",
    "product.set_index(\"제품코드\")\n",
    "order.set_index(\"제품코드\")\n",
    "order[\"제품명\"] = \n",
    "order[\"단가\"] = \n",
    "order[\"주문금액\"] = \n",
    "order"
   ]
  },
  {
   "cell_type": "markdown",
   "metadata": {},
   "source": [
    "#### 인덱스를 제품코드가 아닌 기존으로 되돌릴 때\n",
    "인덱스로 사용된 제품코드는 order의 첫번째 열로 변경"
   ]
  },
  {
   "cell_type": "code",
   "execution_count": null,
   "metadata": {},
   "outputs": [],
   "source": [
    "# order 데이터 프레임 인덱스 리셋\n"
   ]
  },
  {
   "cell_type": "markdown",
   "metadata": {},
   "source": [
    "## 5.3 논리 및 정보 함수"
   ]
  },
  {
   "cell_type": "markdown",
   "metadata": {},
   "source": [
    "### 실습 데이터 불러오기"
   ]
  },
  {
   "cell_type": "code",
   "execution_count": null,
   "metadata": {},
   "outputs": [],
   "source": [
    "import pandas as pd\n",
    "# 논리 함수 실습을 위해 \"과일 주문.xlsx\" 파일을 불러와 fruit에 저장\n",
    "fruit = \n",
    "fruit"
   ]
  },
  {
   "cell_type": "markdown",
   "metadata": {},
   "source": [
    "### 코드 실행 결과가 warning 메시지가 먼저 출력될 때 대처법\n",
    "이 경우는 오류는 아니지만 비정상적인 코드 사용이나 사용하는 패키지의 버전 문제일 수 있다."
   ]
  },
  {
   "cell_type": "code",
   "execution_count": null,
   "metadata": {},
   "outputs": [],
   "source": [
    "# 오류(SettingWithCopyError 발생)\n",
    "#pd.set_option('mode.chained_assignment', 'raise')    # Setting WithCopyError\n",
    "\n",
    "# 경고(SettingWithCopyWarning 발생. 기본값)\n",
    "#pd_option('mode.chained_assignment', 'warn')         # Setting WithCopyWarning\n",
    "\n",
    "# 무시\n",
    "#pd.set_option('mode.chained_assignment', None)       # 경고를 꺼버린다."
   ]
  },
  {
   "cell_type": "markdown",
   "metadata": {},
   "source": [
    "### 조건 함수 사용하기"
   ]
  },
  {
   "cell_type": "code",
   "execution_count": null,
   "metadata": {},
   "outputs": [],
   "source": [
    "fruit = pd.read_excel(r\"chapter05/과일 주문.xlsx\", sheet_name = \"Sheet1\")\n",
    "# [비고] 열 생성\n",
    "\n",
    "\n",
    "\n",
    "fruit.head(6)\t\t\t\t\t\t# fruit 출력"
   ]
  },
  {
   "cell_type": "markdown",
   "metadata": {},
   "source": [
    "### 날짜 및 시간 함수"
   ]
  },
  {
   "cell_type": "code",
   "execution_count": null,
   "metadata": {
    "scrolled": true
   },
   "outputs": [],
   "source": [
    "import pandas as pd\n",
    "\n",
    "\n",
    "fruit = \n",
    "# 문자열 데이터를 날짜형으로 변환\n",
    "\n",
    "\n",
    "# datetime 자료형에서 일자만 출력\n",
    "\n",
    "\n",
    "# [오늘 날짜] 열 생성\n",
    "\n",
    "\n",
    "fruit[\"유통기한 경과일수\"] = (fruit[\"오늘 날짜\"] - fruit[\"유통기한\"]).dt.days\n",
    "fruit.head()"
   ]
  },
  {
   "cell_type": "code",
   "execution_count": null,
   "metadata": {},
   "outputs": [],
   "source": [
    "from datetime import datetime\t\t# datetime 패키지 import\n",
    "# 현재 날짜 시간을 today 변수에 저장\n",
    "\n",
    "\n",
    "# today 변수에서 년 데이터만 출력\n",
    "\n",
    "# today 변수에서 월 데이터만 출력\n",
    "\n",
    "# today 변수에서 일 데이터만 출력\n"
   ]
  },
  {
   "cell_type": "code",
   "execution_count": null,
   "metadata": {
    "scrolled": true
   },
   "outputs": [],
   "source": [
    "time1 = datetime(2019, 10, 1, 15, 30, 1)\t\t# time1에 임의의 날짜 데이터 저장\n",
    "time2 = datetime.now()\t\t\t\t\t\t\t# time2에 현재 날짜/시간 저장\n",
    "print((time2 - time1).days, \"일\")\t\t\t\t# 두 변수 간 일 차이 출력\n",
    "print((time2 - time1).seconds, \"초\")\t\t\t\t# 두 변수 간 초 단위 차이 출력\n",
    "print((time2 - time1).seconds / 3600, \"시간\")\t\t# 두 변수 간 시간 단위 차이 출력"
   ]
  }
 ],
 "metadata": {
  "kernelspec": {
   "display_name": "Python 3 (ipykernel)",
   "language": "python",
   "name": "python3"
  },
  "language_info": {
   "codemirror_mode": {
    "name": "ipython",
    "version": 3
   },
   "file_extension": ".py",
   "mimetype": "text/x-python",
   "name": "python",
   "nbconvert_exporter": "python",
   "pygments_lexer": "ipython3",
   "version": "3.10.4"
  }
 },
 "nbformat": 4,
 "nbformat_minor": 4
}
