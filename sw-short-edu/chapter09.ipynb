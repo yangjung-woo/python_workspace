{
 "cells": [
  {
   "cell_type": "markdown",
   "metadata": {},
   "source": [
    "# Chapter 09 실전 자동화 프로젝트"
   ]
  },
  {
   "cell_type": "markdown",
   "metadata": {},
   "source": [
    "## 9.2 프로젝트 자동화 구현하기"
   ]
  },
  {
   "cell_type": "code",
   "execution_count": null,
   "metadata": {},
   "outputs": [],
   "source": [
    "# Step 1. 모듈 불러오기\n",
    "import pandas as pd\n",
    "from openpyxl import Workbook\n",
    "from openpyxl.styles import Alignment, PatternFill, Font, Side, Border, numbers"
   ]
  },
  {
   "cell_type": "code",
   "execution_count": null,
   "metadata": {},
   "outputs": [],
   "source": [
    "# Step 2. 서비스 이력 데이터 불러오기\n",
    "# 각 시트를 df_src로 불러오고, 이를 하나의 딕셔너리 자료형으로 묶어 반환해 줌\n",
    "# 모든 시트 내용 불러오기 : sheet_name = None\n",
    "df_src = pd.read_excel(\"chapter09/서비스 이력.xlsx\", sheet_name = None, engine=\"openpyxl\")"
   ]
  },
  {
   "cell_type": "code",
   "execution_count": null,
   "metadata": {},
   "outputs": [],
   "source": [
    "# concat() 함수를 사용하여 8개 시트 데이터를 하나의 df로 병합 : 총 392개 행\n",
    "df = pd.concat(df_src, ignore_index = True)    # True/False : 기존 인덱스 무시/유지\n",
    "display(df)"
   ]
  },
  {
   "cell_type": "code",
   "execution_count": null,
   "metadata": {},
   "outputs": [],
   "source": [
    "# loc의 슬라이싱 값에 필터 내용을 넣어 필터링 수행\n",
    "df_filtered = df.loc[df[\"고객사명\"] == \"타오롱글로벌\"]\n",
    "display(df_filtered) "
   ]
  },
  {
   "cell_type": "code",
   "execution_count": null,
   "metadata": {},
   "outputs": [],
   "source": [
    "#customer_list = df[\"고객사명\"]    # 392건\n",
    "customer_list = df[\"고객사명\"].unique()\n",
    "print(\"지난 한달간 서비스를 받은 고객 수 : {}\".format(len(customer_list)))\n",
    "print(\"고객리스트 : \\n{}\".format(customer_list))"
   ]
  },
  {
   "cell_type": "code",
   "execution_count": null,
   "metadata": {},
   "outputs": [],
   "source": [
    "for customer in customer_list:\n",
    "    print(customer)"
   ]
  },
  {
   "cell_type": "code",
   "execution_count": null,
   "metadata": {},
   "outputs": [],
   "source": [
    "# 송장 테이블의 필드 제목 만들기 : 전역 변수로 선언\n",
    "invoice_table_header_list = [ \t\t# 항목 열(알파벳), 항목명, 셀 너비 순서\n",
    "    [\"A\", \"고객사\", 20], [\"B\", \"서비스 일자\", 12], [\"C\", \"서비스 내역\", 40],\n",
    "    [\"D\", \"서비스 기사\", 12], [\"E\", \"유상/무상\", 10], [\"F\", \"공급가액(원)\", 15],\n",
    "    [\"G\", \"부가세(원)\", 15], [\"H\", \"합계(원)\", 15]\n",
    "]"
   ]
  },
  {
   "cell_type": "code",
   "execution_count": null,
   "metadata": {},
   "outputs": [],
   "source": [
    "# Step 3. 청구서 생성 함수 작성하기\n",
    "def makeInvoiceWorkbook():\n",
    "    wb = Workbook() \t\t\t\t# 워크북 객체 생성\n",
    "    ws = wb[\"Sheet\"] \t\t\t\t# 자동으로 생성된 첫 번째 시트 선택\n",
    "    ws.title = \"서비스 청구서\"\t# 선택된 첫 번째 시트의 이름 변경\n",
    "    \n",
    "    ws[\"A2\"] = \"(주)카피맨 렌탈 복사기 서비스 비용 청구서\"\n",
    "    ws[\"A4\"] = \"※서비스 기간 : 2021년 10월\"\n",
    "    \n",
    "    # 청구서 표의 헤더 입력\n",
    "    for header in invoice_table_header_list:\n",
    "        ws[header[0] + \"5\"] = header[1]\n",
    "\n",
    "    ws[\"A8\"] = \"위 금액을 청구합니다.\"\n",
    "    ws[\"A9\"] = \"2021년 10월 29일\"\n",
    "    ws[\"A10\"] = \"(주)카피맨 대표이사 김카피(인)\"\n",
    "    \n",
    "    return wb"
   ]
  },
  {
   "cell_type": "code",
   "execution_count": null,
   "metadata": {},
   "outputs": [],
   "source": [
    "# 테스트용 엑셀 파일 저장해 보기\n",
    "wb = makeInvoiceWorkbook()\n",
    "wb.save(\"chapter09/서비스 청구서_테스트.xlsx\")"
   ]
  },
  {
   "cell_type": "code",
   "execution_count": null,
   "metadata": {},
   "outputs": [],
   "source": [
    "# 고객 리스트 별로 분류해서 108개의 엑셀 파일들 저장하기\n",
    "for customer in customer_list:\n",
    "    wb = makeInvoiceWorkbook()\n",
    "    wb.save(\"chapter09/서비스 청구서_{}.xlsx\".format(customer))"
   ]
  },
  {
   "cell_type": "code",
   "execution_count": null,
   "metadata": {},
   "outputs": [],
   "source": [
    "# Step 4. 청구서 내용 입력하기\n",
    "for customer in customer_list:\n",
    "    wb = makeInvoiceWorkbook()\t\t\t\t# 함수 call\n",
    "    ws = wb[\"서비스 청구서\"]\n",
    "    \n",
    "    # 반복문에서 현재 접근하고 있는 고객사 이름으로 필터링\n",
    "    this_customer_items = df.loc[df[\"고객사명\"] == customer] \n",
    "    \n",
    "    # 방문일자, 기사명 순으로 정렬될 수 있도록 함\n",
    "    this_customer_items = this_customer_items.sort_values(by = [\"방문일자\", \"기사\"])\n",
    "    display(this_customer_items)\t# 필터링 및 재정렬된 내용 확인\n",
    "    \n",
    "    break\t\t# 테스트로 고객사 하나의 df만 확인하기 위해 반복문을 중지"
   ]
  },
  {
   "cell_type": "code",
   "execution_count": null,
   "metadata": {},
   "outputs": [],
   "source": [
    "# strp 6 에서 복사해서 사용할 것\n",
    "for customer in customer_list:\n",
    "    wb = makeInvoiceWorkbook()\n",
    "    ws = wb[\"서비스 청구서\"]\n",
    "    this_customer_items = df.loc[df[\"고객사명\"] == customer] \n",
    "    this_customer_items = this_customer_items.sort_values(by = [\"방문일자\", \"기사\"])\n",
    "    item_row_no = 6 #서비스 이력 내용이 입력되는 행의 번호\n",
    "    for idx in range(len(this_customer_items)): #서비스 이력 개수만큼 반복\n",
    "        ws.insert_rows(item_row_no) #서비스 이력이 들어갈 곳에 새로운 행 삽입\n",
    "        # 고객사, 서비스 일자, 서비스 내역 등 데이터를 항목에 맞게 입력\n",
    "        ws[\"A{}\".format(item_row_no)] = this_customer_items.iloc[idx, 1]\t\t#서비스 일자\n",
    "        ws[\"B{}\".format(item_row_no)] = this_customer_items.iloc[idx, 0]\t\t#고객사\n",
    "        ws[\"C{}\".format(item_row_no)] = this_customer_items.iloc[idx, 3]\t\t#서비스 기사\n",
    "        ws[\"D{}\".format(item_row_no)] = this_customer_items.iloc[idx, 2]\t\t#서비스 내역\n",
    "        ws[\"E{}\".format(item_row_no)] = this_customer_items.iloc[idx, 4]\t\t#유상/무상\n",
    "        ws[\"F{}\".format(item_row_no)] = this_customer_items.iloc[idx, 5]\t\t#공급가액(원)\n",
    "        ws[\"G{}\".format(item_row_no)] = this_customer_items.iloc[idx, 6]\t\t#부가세(원)\n",
    "        ws[\"H{}\".format(item_row_no)] = this_customer_items.iloc[idx, 7]\t\t#합계(원)\n",
    "        item_row_no += 1 # 다음 행에 서비스 이력이 입력될 수 있도록 변수값을 1 증가시킴\n",
    "    ws[\"A{}\".format(item_row_no)] = \"총계\"\n",
    "    ws[\"B{}\".format(item_row_no)] = '=COUNTA(C{}:C{})&\"건\"'.format(6, item_row_no-1)\n",
    "    ws[\"F{}\".format(item_row_no)] = \"=SUM(F{}:F{})\".format(6, item_row_no-1)\n",
    "    ws[\"G{}\".format(item_row_no)] = \"=SUM(G{}:G{})\".format(6, item_row_no-1)\n",
    "    ws[\"H{}\".format(item_row_no)] = \"=SUM(H{}:H{})\".format(6, item_row_no-1)\n",
    "\n",
    "    wb.save(\"chapter09/서비스 청구서_{}.xlsx\".format(customer)) # 결과 확인을 위해 엑셀 파일로 저장"
   ]
  },
  {
   "cell_type": "code",
   "execution_count": null,
   "metadata": {},
   "outputs": [],
   "source": [
    "# Step 5. 청구서 서식 변경 함수 작성하기\n",
    "# 워크시트와 서비스 이력이 들어간 영역의 시작 행과 종료 행을 파라미터로 받도록 설정함\n",
    "def stylizeInvoiceForm(ws, item_start_row_no, item_row_no):\n",
    "    # 서비스 이력표 테두리 서식과 적용 영역을 미리 지정\n",
    "    side = Side(color = \"CCCCCC\", border_style = \"medium\")\t\t\t\t# 밝은 회색\n",
    "    border_style = Border(left = side, right = side, top = side, bottom = side)\n",
    "\n",
    "    # ① 서비스 이력표 영역 정렬 및 폰트 서식 설정\n",
    "    for header in invoice_table_header_list:\n",
    "        ws.column_dimensions[header[0]].width = header[2]\t\t\t\t# 셀 너비 설정\n",
    "        \n",
    "        # 헤더 행 서식 설정\n",
    "        ws[header[0] + \"5\"].font = Font(sz=\"12\", bold = True)\t\t#\"A5“~”H5” 셀의 폰트(12, 굵게)\n",
    "        ws[header[0] + \"5\"].fill = PatternFill(patternType=\"solid\", start_color=\"ffd663\")\n",
    "        ws[header[0] + \"5\"].border = border_style\n",
    "        ws[header[0] + \"5\"].alignment = Alignment(horizontal = \"center\", vertical = \"center\")\n",
    "        \n",
    "        # 내용 행 서식 설정, 내용 시작 행부터 종료 행까지 반복문으로 접근하여 설정\n",
    "        for row_no in range(item_start_row_no, item_row_no+1):\n",
    "            ws[\"{}{}\".format(header[0], row_no)].font = Font(sz = \"11\", bold = False)\n",
    "            ws[\"{}{}\".format(header[0], row_no)].border = border_style\n",
    "            \n",
    "            if header[0] in [\"A\", \"B\", \"C\", \"D\", \"E\"]: \t\t\t# A~E 열은 중앙 정렬\n",
    "                ws[\"{}{}\".format(header[0], row_no)].alignment = \\\n",
    "                    Alignment(horizontal = \"center\", vertical = \"center\")\n",
    "            \n",
    "            else: \t\t\t\t# F~H 열은 숫자(금액)이므로 오른쪽 정렬, 세 자릿수마다 콤마 입력\n",
    "                ws[\"{}{}\".format(header[0], row_no)].alignment = \\\n",
    "                    Alignment(horizontal = \"right\", vertical = \"center\")\n",
    "                ws[\"{}{}\".format(header[0], row_no)].number_format = \\\n",
    "                    numbers.BUILTIN_FORMATS[37]\n",
    "\n",
    "        # 총계 행 서식 설정\n",
    "        ws[\"{}{}\".format(header[0], item_row_no)].font = Font(bold = True)\n",
    "        ws[\"{}{}\".format(header[0], item_row_no)].fill = \\\n",
    "            PatternFill(patternType = \"solid\", start_color = \"eeeeee\") \n",
    "\n",
    "    # ② 셀 병합 처리\n",
    "    ws.merge_cells(\"A2:H2\")\t\t\t\t# (주)카피맨 렌탈 복사기 서비스 비용 청구서\n",
    "    ws.merge_cells(\"A4:H4\")\t\t\t\t# ※서비스 기간…\n",
    "    ws.merge_cells(\"B{}:E{}\".format(item_row_no, item_row_no))\t\t\t# 0건 cell\n",
    "    ws.merge_cells(\"A{}:H{}\".format(item_row_no+2, item_row_no+2))\t\t# 위 금액을 …\n",
    "    ws.merge_cells(\"A{}:H{}\".format(item_row_no+3, item_row_no+3))\t\t# 년 월 일\n",
    "    ws.merge_cells(\"A{}:H{}\".format(item_row_no+4, item_row_no+4))\t\t# ㈜카피맨…\n",
    "\n",
    "\n",
    "    # ③ 서비스 이력표 제외한 부분의 정렬/폰트 서식 설정\n",
    "    ws[\"A2\"].alignment = Alignment(horizontal = \"center\", vertical = \"center\")\n",
    "    ws[\"A2\"].font = Font(sz = \"20\", bold = True)\n",
    "    ws[\"A4\"].alignment = Alignment(horizontal = \"right\", vertical = \"center\")\n",
    "    ws[\"A{}\".format(item_row_no+2)].alignment = \\\n",
    "        Alignment(horizontal = \"center\", vertical = \"center\")\n",
    "    ws[\"A{}\".format(item_row_no+2)].font = Font(sz = \"16\", bold = True)\n",
    "    ws[\"A{}\".format(item_row_no+3)].alignment = \\\n",
    "        Alignment(horizontal = \"center\", vertical = \"center\")\n",
    "    ws[\"A{}\".format(item_row_no+3)].font = Font(sz = \"12\", bold = True)\n",
    "    ws[\"A{}\".format(item_row_no+4)].alignment = \\\n",
    "        Alignment(horizontal = \"right\", vertical = \"center\")\n",
    "    ws[\"A{}\".format(item_row_no+4)].font = Font(sz = \"14\", bold = True)\n",
    "\n",
    "    # ④ 행별 높이 설정\n",
    "    ws.row_dimensions[2].height = 40\n",
    "    ws.row_dimensions[4].height = 20\n",
    "    ws.row_dimensions[5].height = 25\n",
    "    ws.row_dimensions[item_row_no+2].height = 40\n",
    "    ws.row_dimensions[item_row_no+3].height = 20\n",
    "    ws.row_dimensions[item_row_no+4].height = 40\n",
    "\n",
    "    for row_no in range(item_start_row_no, item_row_no+1):\n",
    "        ws.row_dimensions[row_no].height = 25\n",
    "    \n",
    "    #서식 처리가 완료된 워크시트 리턴\n",
    "    return ws"
   ]
  },
  {
   "cell_type": "code",
   "execution_count": null,
   "metadata": {},
   "outputs": [],
   "source": [
    "# Step 6. 서식 적용 후 엑셀 파일로 저장하기\n",
    "for customer in customer_list:\n",
    "    wb = makeInvoiceWorkbook()\n",
    "    ws = wb[\"서비스 청구서\"]\n",
    "    this_customer_items = df.loc[df[\"고객사명\"] == customer] \n",
    "    this_customer_items = this_customer_items.sort_values(by = [\"방문일자\", \"기사\"])\n",
    "    item_row_no = 6 \n",
    "    for idx in range(len(this_customer_items)): \n",
    "        ws.insert_rows(item_row_no)\n",
    "        ws[\"A{}\".format(item_row_no)] = this_customer_items.iloc[idx, 1]\n",
    "        ws[\"B{}\".format(item_row_no)] = this_customer_items.iloc[idx, 0]\n",
    "        ws[\"C{}\".format(item_row_no)] = this_customer_items.iloc[idx, 3]\n",
    "        ws[\"D{}\".format(item_row_no)] = this_customer_items.iloc[idx, 2]\n",
    "        ws[\"E{}\".format(item_row_no)] = this_customer_items.iloc[idx, 4]\n",
    "        ws[\"F{}\".format(item_row_no)] = this_customer_items.iloc[idx, 5]\n",
    "        ws[\"G{}\".format(item_row_no)] = this_customer_items.iloc[idx, 6]\n",
    "        ws[\"H{}\".format(item_row_no)] = this_customer_items.iloc[idx, 7]\n",
    "        item_row_no += 1 \n",
    "    ws[\"A{}\".format(item_row_no)] = \"총계\"\n",
    "    ws[\"B{}\".format(item_row_no)] = '=COUNTA(C{}:C{})&\"건\"'.format(6, item_row_no-1)\n",
    "    ws[\"F{}\".format(item_row_no)] = \"=SUM(F{}:F{})\".format(6, item_row_no-1)\n",
    "    ws[\"G{}\".format(item_row_no)] = \"=SUM(G{}:G{})\".format(6, item_row_no-1)\n",
    "    ws[\"H{}\".format(item_row_no)] = \"=SUM(H{}:H{})\".format(6, item_row_no-1)\n",
    "    \n",
    "    # 아래 부분 추가하기\n",
    "    ws = stylizeInvoiceForm(ws, 6, item_row_no)  # 청구서 서식 변경 함수 호출\n",
    "    \n",
    "    wb.save(\"chapter09/서비스 청구서_{}.xlsx\".format(customer)) # 엑셀 파일로 저장"
   ]
  }
 ],
 "metadata": {
  "kernelspec": {
   "display_name": "Python 3 (ipykernel)",
   "language": "python",
   "name": "python3"
  },
  "language_info": {
   "codemirror_mode": {
    "name": "ipython",
    "version": 3
   },
   "file_extension": ".py",
   "mimetype": "text/x-python",
   "name": "python",
   "nbconvert_exporter": "python",
   "pygments_lexer": "ipython3",
   "version": "3.10.4"
  }
 },
 "nbformat": 4,
 "nbformat_minor": 4
}
