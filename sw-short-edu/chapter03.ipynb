{
 "cells": [
  {
   "cell_type": "markdown",
   "metadata": {},
   "source": [
    "# Chapter 03 제어문과 함수"
   ]
  },
  {
   "cell_type": "markdown",
   "metadata": {},
   "source": [
    "##  3.1 제어문"
   ]
  },
  {
   "cell_type": "markdown",
   "metadata": {},
   "source": [
    "### if 문"
   ]
  },
  {
   "cell_type": "code",
   "execution_count": null,
   "metadata": {},
   "outputs": [],
   "source": [
    "x = 10\t\t\t# 변수 x에 10을 입력\n",
    "y = 5\t\t\t# 변수 y에 5를 입력\n",
    "x > y\t\t\t# x가 y보다 큰 값인지 비교"
   ]
  },
  {
   "cell_type": "code",
   "execution_count": null,
   "metadata": {},
   "outputs": [],
   "source": [
    "x == y\t\t\t# x와 y가 같은 값인지 비교 "
   ]
  },
  {
   "cell_type": "code",
   "execution_count": null,
   "metadata": {},
   "outputs": [],
   "source": [
    "x != y\t\t\t# x와 y가 다른 값인지 비교 "
   ]
  },
  {
   "cell_type": "code",
   "execution_count": null,
   "metadata": {},
   "outputs": [],
   "source": [
    "x = True\t\t# 변수 x에 True 입력\n",
    "y = False\t\t# 변수 y에 False 입력\n",
    "x or y\t\t\t# x와 y값 중 하나라도 참이면 True를 출력"
   ]
  },
  {
   "cell_type": "code",
   "execution_count": null,
   "metadata": {},
   "outputs": [],
   "source": [
    "x and y\t\t\t# x와 y값 모두가 참이 아니면 False를 출력"
   ]
  },
  {
   "cell_type": "code",
   "execution_count": null,
   "metadata": {},
   "outputs": [],
   "source": [
    "10 in [10, 20, 30]\t\t# 리스트 [10, 20, 30]에 10이 있으면 참 "
   ]
  },
  {
   "cell_type": "code",
   "execution_count": null,
   "metadata": {},
   "outputs": [],
   "source": [
    "\"x\" not in (\"x\", \"y\", \"z\")\t\t# 튜플 (\"x\", \"y\", \"z\")에 \"x\"가 없으면 참. \"x\" 가 있으므로 거짓"
   ]
  },
  {
   "cell_type": "code",
   "execution_count": null,
   "metadata": {},
   "outputs": [],
   "source": [
    "x = 3\t\t\t\t# 변수 x에 3을 대입\n",
    "if x % 2 == 0:\t\t# x를 2로 나눈 나머지 값과 0을 비교\n",
    "    print(\"짝수\")\t\t# 조건문이 참일 때 실행\n",
    "else:\n",
    "    print(\"홀수\")\t\t# 조건문이 거짓일 때 실행 "
   ]
  },
  {
   "cell_type": "code",
   "execution_count": null,
   "metadata": {},
   "outputs": [],
   "source": [
    "pass_list = [\"이순신\", \"을지문덕\", \"연개소문\", \"강감찬\"]  #리스트로 저장\n",
    "name = \"강감찬\"\n",
    "if name in pass_list :\n",
    "    print (name + \"님은 합격입니다.\")\n",
    "else :\n",
    "    print (name + \"님은 불합격입니다.\")"
   ]
  },
  {
   "cell_type": "code",
   "execution_count": null,
   "metadata": {},
   "outputs": [],
   "source": [
    "x = 55\n",
    "if x >= 70:\t\t\t# x가 70보다 작으므로 조건문의 값은 거짓\n",
    "    print (\"양호\")\n",
    "elif x >= 40:\t\t# x가 40보다 크므로 조건문의 값은 참\n",
    "    print (\"보통\")\n",
    "else :\n",
    "    print (\"불량\")"
   ]
  },
  {
   "cell_type": "code",
   "execution_count": null,
   "metadata": {},
   "outputs": [],
   "source": [
    "if x >= 80:\n",
    "    msg = \"합격\"\n",
    "else:\n",
    "    msg = \"불합격\""
   ]
  },
  {
   "cell_type": "code",
   "execution_count": null,
   "metadata": {},
   "outputs": [],
   "source": [
    "msg = \"합격\" if x >= 80 else \"불합격\""
   ]
  },
  {
   "cell_type": "markdown",
   "metadata": {},
   "source": [
    "### while 문"
   ]
  },
  {
   "cell_type": "code",
   "execution_count": null,
   "metadata": {},
   "outputs": [],
   "source": [
    "i = 1\n",
    "sum = 0\n",
    "# i가 101보다 작을 동안 계속해서 반복\n",
    "\n",
    "\n",
    "print(\"1 + 2 + ... + 99 + 100 =\", sum)"
   ]
  },
  {
   "cell_type": "code",
   "execution_count": null,
   "metadata": {},
   "outputs": [],
   "source": [
    "egg = 2\n",
    "# 무한 반복\n",
    "\n"
   ]
  },
  {
   "cell_type": "code",
   "execution_count": null,
   "metadata": {},
   "outputs": [],
   "source": [
    "i = 0\n",
    "while i < 10:\n",
    "    i = i + 1\n",
    "    if i % 2 == 0: \n",
    "        continue\t\t# i가 짝수일 경우 while 문의 처음 코드로 돌아감\n",
    "    print(i)"
   ]
  },
  {
   "cell_type": "markdown",
   "metadata": {},
   "source": [
    "### for 문"
   ]
  },
  {
   "cell_type": "code",
   "execution_count": null,
   "metadata": {},
   "outputs": [],
   "source": [
    "web_list = [\"네이버\", \"구글\", \"다음\"] \n",
    "# 변수 a에 \"네이버\", \"구글\", \"다음\"이 차례로 대입됨\n"
   ]
  },
  {
   "cell_type": "code",
   "execution_count": null,
   "metadata": {},
   "outputs": [],
   "source": [
    "a = [(3, 6), (4, 5), (3, 8)]\n",
    "\\# 변수(x, y)에 (3, 6), (4, 5), (3, 8)이 차례로 대입\n",
    "\n",
    "    # x와 y를 곱한 값을 출력\n"
   ]
  },
  {
   "cell_type": "code",
   "execution_count": null,
   "metadata": {},
   "outputs": [],
   "source": [
    "# 1부터 9까지 숫자 리스트 생성\n",
    "\n",
    "# 1~9에서 2씩 증가하는 숫자 리스트 생성\n",
    "\n",
    "# 10~2에서 -1씩 감소하는 숫자 리스트 생성\n",
    "\n",
    "print(a, b, c)"
   ]
  },
  {
   "cell_type": "code",
   "execution_count": null,
   "metadata": {},
   "outputs": [],
   "source": [
    "sum = 0\n",
    "# 1~99에서 2씩 증가, 홀수 리스트를 생성\n",
    "# 변수 sum에 홀수를 차례로 더함\n",
    "\n",
    "print(sum) "
   ]
  },
  {
   "cell_type": "code",
   "execution_count": null,
   "metadata": {},
   "outputs": [],
   "source": [
    "for x in range(2, 8):  \t\t\t\t# x에 2부터 7까지 대입\n",
    "    for y in range(2,7):\t\t\t# y에 2부터 6까지 대입\n",
    "        print(\"%d X %d = %d\" %(x, y, x * y), \"\\t\", end=\"\")\t# x, y, x * y 출력, tab으로 간격 조정\n",
    "    print()\t\t\t\t\t\t\t# 줄 바꾸기"
   ]
  },
  {
   "cell_type": "code",
   "execution_count": null,
   "metadata": {},
   "outputs": [],
   "source": [
    "scores = [(1, 83),(2, 66),(3, 55),(4, 70), (5, 50)]\n",
    "# num과 score에 튜플 데이터를 대입\n",
    "\n",
    "    if score < 60:\t\t\t\t\t\t# score가 60보다 작을 경우 continue 실행\n",
    "        continue\t\t\t\t\t\t# for 문의 처음으로 돌아감 \n",
    "    print(\"%d번 학생 축하합니다.\" %num)\t\t# score가 60보다 크거나 같을 경우 print() 실행"
   ]
  },
  {
   "cell_type": "markdown",
   "metadata": {},
   "source": [
    "## 3.2 함수와 클래스"
   ]
  },
  {
   "cell_type": "markdown",
   "metadata": {},
   "source": [
    "### 함수 만들기"
   ]
  },
  {
   "cell_type": "code",
   "execution_count": null,
   "metadata": {},
   "outputs": [],
   "source": [
    "def sum(a, b):\t\t\t# sum() 함수 정의, 매개변수 a, b\n",
    "    result = a+b\n",
    "    return result\t\t# result를 결과값으로 전달\n",
    "\n",
    "print(sum(10,20))\t\t# sum() 함수 호출, 10과 20은 매개변수로 전달되는 인수"
   ]
  },
  {
   "cell_type": "markdown",
   "metadata": {},
   "source": [
    "### 1) 매개변수와 반환값이 있는 함수"
   ]
  },
  {
   "cell_type": "code",
   "execution_count": null,
   "metadata": {},
   "outputs": [],
   "source": [
    "def mul(x, y):\t\t\t# mul() 함수 정의, 매개변수 x, y\n",
    "    res = x * y\n",
    "    return res\t\t\t# res를 결과값으로 전달\n",
    "\n",
    "print(mul(100, 2))\t\t# mul() 함수 호출, 100과 2는 매개변수로 전달되는 인수"
   ]
  },
  {
   "cell_type": "markdown",
   "metadata": {},
   "source": [
    "### 2) 매개변수가 없지만 반환값이 있는 함수"
   ]
  },
  {
   "cell_type": "code",
   "execution_count": null,
   "metadata": {},
   "outputs": [],
   "source": [
    "def good( ):\t\t\t# good() 함수 정의, 매개변수 없음\n",
    "    return \"안녕하세요! 반갑습니다.\"\n",
    "    \n",
    "print(good( ))\t\t\t# good() 함수 호출"
   ]
  },
  {
   "cell_type": "markdown",
   "metadata": {},
   "source": [
    "### 3) 매개변수는 있지만 반환값이 없는 함수"
   ]
  },
  {
   "cell_type": "code",
   "execution_count": null,
   "metadata": {},
   "outputs": [],
   "source": [
    "def test(a):\t\t\t# test() 함수 정의\n",
    "    if a >= 60:\t\t\t# a가 60 이상이면  \"합격을 축하드립니다.\" 출력\n",
    "        print(\"합격을 축하드립니다.\")\n",
    "    else:\t\t\t\t# a가 60 미만이면 \"불합격입니다.ㅠㅠ\" 출력\n",
    "        print(\"불합격입니다.ㅠㅠ\")\n",
    "test(55)"
   ]
  },
  {
   "cell_type": "markdown",
   "metadata": {},
   "source": [
    "### 4) 매개변수와 반환값이 모두 없는 함수"
   ]
  },
  {
   "cell_type": "code",
   "execution_count": null,
   "metadata": {},
   "outputs": [],
   "source": [
    "def sayhello( ):\t\t# sayhello() 함수 정의\n",
    "   print(\"안녕하세요! 반갑습니다.\")  \n",
    "\n",
    "sayhello()\t\t\t\t# 함수 호출"
   ]
  },
  {
   "cell_type": "markdown",
   "metadata": {},
   "source": [
    "### 여러개의 입력값을 받는 함수 만들기"
   ]
  },
  {
   "cell_type": "code",
   "execution_count": null,
   "metadata": {},
   "outputs": [],
   "source": [
    "def add_many(*args):\t\t# 매개변수 앞에 *을 붙이면 입력값을 전부 모아서 튜플로 만들어 준다.\n",
    "    print(args)\n",
    "    result = 0\n",
    "    for i in args:\n",
    "        result = result + i\n",
    "    return result"
   ]
  },
  {
   "cell_type": "code",
   "execution_count": null,
   "metadata": {},
   "outputs": [],
   "source": [
    "print(add_many(1, 2, 3))"
   ]
  },
  {
   "cell_type": "code",
   "execution_count": null,
   "metadata": {
    "scrolled": true
   },
   "outputs": [],
   "source": [
    "print(add_many(1, 2, 3, 4, 5, 6, 7))"
   ]
  },
  {
   "cell_type": "markdown",
   "metadata": {},
   "source": [
    "#### 변수의 유효 범위"
   ]
  },
  {
   "cell_type": "code",
   "execution_count": null,
   "metadata": {},
   "outputs": [],
   "source": [
    "a = 1\t\t\t\t\t# 함수 밖의 변수\n",
    "\n",
    "def test(a):\t\t\t# test() 함수 정의\n",
    "    a = a + 1\t\t\t# 함수 안의 변수\n",
    "    print(a)\t\t\t# 함수 안의 변수값 출력\n",
    "    return a\n",
    "\n",
    "test(a)\t\t\t\t\t# test() 함수 호출\n",
    "print(a)\t\t\t\t# 함수 밖의 변수 값 출력"
   ]
  },
  {
   "cell_type": "markdown",
   "metadata": {},
   "source": [
    "### 입력 함수"
   ]
  },
  {
   "cell_type": "code",
   "execution_count": null,
   "metadata": {},
   "outputs": [],
   "source": []
  },
  {
   "cell_type": "code",
   "execution_count": null,
   "metadata": {},
   "outputs": [],
   "source": []
  },
  {
   "cell_type": "code",
   "execution_count": null,
   "metadata": {},
   "outputs": [],
   "source": []
  },
  {
   "cell_type": "code",
   "execution_count": null,
   "metadata": {},
   "outputs": [],
   "source": []
  },
  {
   "cell_type": "markdown",
   "metadata": {},
   "source": [
    "### 출력 함수"
   ]
  },
  {
   "cell_type": "code",
   "execution_count": null,
   "metadata": {},
   "outputs": [],
   "source": [
    "print(\"I\" \"eat\" \"5\" \"eggs.\")\t# 문자 사이에 공백 사용했지만 출력값 사이에 공백 없이 출력됨"
   ]
  },
  {
   "cell_type": "code",
   "execution_count": null,
   "metadata": {},
   "outputs": [],
   "source": [
    "print(\"I\" \"eat\" 5 \"eggs.\")\t# 공백 사용했지만 에러"
   ]
  },
  {
   "cell_type": "code",
   "execution_count": null,
   "metadata": {},
   "outputs": [],
   "source": [
    "print(\"I\", \"eat\", \"5\", \"eggs.\")\t# 콤마(,) 사용 시 출력값에 공백 추가됨, 숫자 입력 가능"
   ]
  },
  {
   "cell_type": "code",
   "execution_count": null,
   "metadata": {},
   "outputs": [],
   "source": [
    "print(\"I\" + \"eat\" + \"5\" + \"eggs.\")    # 더하기 기호(+)는 같은 자료형끼리만 사용 가능"
   ]
  },
  {
   "cell_type": "code",
   "execution_count": null,
   "metadata": {},
   "outputs": [],
   "source": [
    "print(\"I\" + \"eat\" + 5 + \"eggs.\") "
   ]
  },
  {
   "cell_type": "code",
   "execution_count": null,
   "metadata": {
    "scrolled": true
   },
   "outputs": [],
   "source": [
    "print(\"I\", end =\" \")\t\t\t# \" \" 사이에 공백 입력\n",
    "print(\"eat\", end =\" \")\n",
    "print(5, end =\" \")\n",
    "print(\"eggs.\", end =\" \")"
   ]
  },
  {
   "cell_type": "code",
   "execution_count": null,
   "metadata": {},
   "outputs": [],
   "source": [
    "print(\"I\", end =\"\")\t\t\t# \"\" 사이에 공백이 없다면\n",
    "print(\"eat\", end =\"\")\n",
    "print(5, end =\"\")\n",
    "print(\"eggs.\", end =\"\")"
   ]
  },
  {
   "cell_type": "code",
   "execution_count": null,
   "metadata": {
    "scrolled": true
   },
   "outputs": [],
   "source": [
    "num = input()\n",
    "print(num)\n",
    "type(num)"
   ]
  },
  {
   "cell_type": "code",
   "execution_count": null,
   "metadata": {
    "scrolled": false
   },
   "outputs": [],
   "source": [
    "num = int(input(\"숫자를 입력하세요 : \"))\n",
    "print(num)\n",
    "type(num)"
   ]
  },
  {
   "cell_type": "markdown",
   "metadata": {},
   "source": [
    "### 외부 파일 읽고 쓰기"
   ]
  },
  {
   "cell_type": "code",
   "execution_count": null,
   "metadata": {},
   "outputs": [],
   "source": [
    "# 현재 경로에서 “A lucky day.txt”를 읽기 모드로 열기\n",
    "\n",
    "# 파일 닫기\n"
   ]
  },
  {
   "cell_type": "code",
   "execution_count": null,
   "metadata": {},
   "outputs": [],
   "source": [
    "# 현재 경로에서 “yonsei summer.txt”를 쓰기 모드로 열기\n",
    "\n",
    "# 파일 닫기\n"
   ]
  },
  {
   "cell_type": "code",
   "execution_count": null,
   "metadata": {},
   "outputs": [],
   "source": [
    "# 현재 경로에서 “yonsei summer.txt”를 쓰기 모드로 열기\n",
    "\n",
    "# 파일 닫기\n"
   ]
  },
  {
   "cell_type": "code",
   "execution_count": null,
   "metadata": {},
   "outputs": [],
   "source": [
    "# 파일 읽기 모드로 열기\n",
    "\n",
    "# 파일 내용 한 줄 출력\n",
    "\n",
    "# 한 줄 출력\n",
    "\n",
    "fr.close()"
   ]
  },
  {
   "cell_type": "code",
   "execution_count": null,
   "metadata": {},
   "outputs": [],
   "source": [
    "# 파일 읽기 모드로 열기\n",
    "\n",
    "# 파일 내용 전체 출력\n",
    "\n",
    "fr1.close()"
   ]
  },
  {
   "cell_type": "code",
   "execution_count": null,
   "metadata": {},
   "outputs": [],
   "source": [
    "# 파일 추가 모드로 열기\n",
    "\n",
    "fr4.write(\"\"\"\n",
    "짧은 기간이지만\n",
    "알차게 배워 가시기 바랍니다.\"\"\")\n",
    "fr4.close()"
   ]
  },
  {
   "cell_type": "code",
   "execution_count": null,
   "metadata": {},
   "outputs": [],
   "source": [
    "# 파일 읽기 모드로 열기\n",
    "\n",
    "# 파일 내용 전체 출력\n",
    "\n",
    "fr4.close()"
   ]
  },
  {
   "cell_type": "markdown",
   "metadata": {},
   "source": [
    "## 내장 함수"
   ]
  },
  {
   "cell_type": "code",
   "execution_count": null,
   "metadata": {},
   "outputs": [],
   "source": [
    "# 내장 함수 확인\n"
   ]
  },
  {
   "cell_type": "code",
   "execution_count": null,
   "metadata": {},
   "outputs": [],
   "source": [
    "# 리스트 객체 관련 함수\n"
   ]
  },
  {
   "cell_type": "code",
   "execution_count": null,
   "metadata": {},
   "outputs": [],
   "source": [
    "# 딕셔너리 객체 관련 함수\n"
   ]
  },
  {
   "cell_type": "code",
   "execution_count": null,
   "metadata": {},
   "outputs": [],
   "source": [
    "abs(-5)"
   ]
  },
  {
   "cell_type": "code",
   "execution_count": null,
   "metadata": {},
   "outputs": [],
   "source": [
    "abs(2) == abs(-2)\t\t\t\t# abs(2)와 abs(-2)는 같은 절대값을 가짐"
   ]
  },
  {
   "cell_type": "code",
   "execution_count": null,
   "metadata": {},
   "outputs": [],
   "source": [
    "for i in range(97, 123): print(chr(i), end=\" \")  # for 문을 활용해 유니코드 97~122 문자 출력"
   ]
  },
  {
   "cell_type": "code",
   "execution_count": null,
   "metadata": {},
   "outputs": [],
   "source": [
    "for i in [\"a\", \"b\", \"c\", \"d\"]: print(ord(i), end=\" \")  # \"a\", \"b\", \"c\", \"d\"의 유니코드 출력"
   ]
  },
  {
   "cell_type": "code",
   "execution_count": null,
   "metadata": {},
   "outputs": [],
   "source": [
    "# 리스트 문자열을 입력받아 인덱스는 변수 i에, 문자열은 변수 item에 대입\n"
   ]
  },
  {
   "cell_type": "code",
   "execution_count": null,
   "metadata": {},
   "outputs": [],
   "source": [
    "int(\"8\")\t\t\t\t\t\t# 문자열 8을 숫자 8로 반환"
   ]
  },
  {
   "cell_type": "code",
   "execution_count": null,
   "metadata": {},
   "outputs": [],
   "source": [
    "int(2.3)\t\t\t\t\t\t# 숫자 2.3을 2로 반환"
   ]
  },
  {
   "cell_type": "code",
   "execution_count": null,
   "metadata": {},
   "outputs": [],
   "source": [
    "len(\"대한민국\")\t\t\t\t\t# 문자열의 길이를 반환"
   ]
  },
  {
   "cell_type": "code",
   "execution_count": null,
   "metadata": {},
   "outputs": [],
   "source": [
    "len([1,2,3,4,5,6,7])\t\t\t# 리스트의 요소 수를 반환"
   ]
  },
  {
   "cell_type": "code",
   "execution_count": null,
   "metadata": {},
   "outputs": [],
   "source": [
    "test = [1, 2, 3, 4, 5, 6, 7, 8, 9, 10]\n",
    "max(test), min(test)\t\t\t# 변수 test의 최대값과 최소값을 반환"
   ]
  },
  {
   "cell_type": "code",
   "execution_count": null,
   "metadata": {},
   "outputs": [],
   "source": [
    "max(test)"
   ]
  },
  {
   "cell_type": "code",
   "execution_count": null,
   "metadata": {},
   "outputs": [],
   "source": [
    "min(test)"
   ]
  },
  {
   "cell_type": "code",
   "execution_count": null,
   "metadata": {},
   "outputs": [],
   "source": [
    "pow(3, 2) \t\t\t\t\t# 3의 2제곱"
   ]
  },
  {
   "cell_type": "code",
   "execution_count": null,
   "metadata": {},
   "outputs": [],
   "source": [
    "pow(2, 10) \t\t\t\t\t# 2의 10제곱"
   ]
  },
  {
   "cell_type": "code",
   "execution_count": null,
   "metadata": {},
   "outputs": [],
   "source": [
    "round(32.3132, 2)\t\t\t# 소수점 둘째 자리까지 반올림하여 반환"
   ]
  },
  {
   "cell_type": "code",
   "execution_count": null,
   "metadata": {},
   "outputs": [],
   "source": [
    "round(24.3788, 3)\t\t\t# 소수점 셋째 자리까지 반올림하여 반환"
   ]
  },
  {
   "cell_type": "code",
   "execution_count": null,
   "metadata": {},
   "outputs": [],
   "source": [
    "sum([1, 2, 3, 4, 5, 6, 7, 8, 9, 10])\t# 리스트 요소를 모두 더함"
   ]
  },
  {
   "cell_type": "code",
   "execution_count": null,
   "metadata": {},
   "outputs": [],
   "source": [
    "a = [1, 2, 3, 4, 5, 6, 7, 8, 9, 10]\n",
    "avg = sum(a) / len(a)\t\t\t\t\t# sum()과 len() 함수를 이용해 리스트의 평균을 구함\n",
    "print(avg)"
   ]
  },
  {
   "cell_type": "code",
   "execution_count": null,
   "metadata": {},
   "outputs": [],
   "source": [
    "sorted((3, 1, 4, 5, 2)), sorted((3, 1, 4, 5, 2), reverse = True)\t# 튜플을 오름차순과 내림차순으로 정렬"
   ]
  },
  {
   "cell_type": "code",
   "execution_count": null,
   "metadata": {},
   "outputs": [],
   "source": [
    "sorted([3, 1, 4, 5, 2])\t\t\t\t\t# 리스트를 오름차순으로 정렬"
   ]
  },
  {
   "cell_type": "code",
   "execution_count": null,
   "metadata": {},
   "outputs": [],
   "source": [
    "sorted(\"대한민국\"), sorted([\"b\", \"c\", \"a\"])\t\t#문자열은 글자를 분리하여 정렬, 리스트 문자열은 요소로 정렬"
   ]
  },
  {
   "cell_type": "markdown",
   "metadata": {},
   "source": [
    "### self : 메서드를 호출한 객체 자신이 전달되는 통로\n",
    "파이썬 클래스에서 첫 번째 매개변수 이름은 관례적으로 self 를 사용"
   ]
  },
  {
   "cell_type": "code",
   "execution_count": null,
   "metadata": {},
   "outputs": [],
   "source": []
  },
  {
   "cell_type": "code",
   "execution_count": null,
   "metadata": {},
   "outputs": [],
   "source": []
  },
  {
   "cell_type": "code",
   "execution_count": null,
   "metadata": {},
   "outputs": [],
   "source": []
  },
  {
   "cell_type": "code",
   "execution_count": null,
   "metadata": {},
   "outputs": [],
   "source": [
    "kim = message(\"김온달\")\t\t# kim 객체 생성, name변수에 \"김온달\" 저장\n",
    "lee = message(\"이평강\")\t\t# lee 객체 생성, name 변수에 \"이평강\" 저장\n",
    "\n",
    "kim.hello()\t\t\t\t\t\t# kim 객체에서 message 클래스의 hello(), bye() 메소드 호출\n",
    "kim.bye()"
   ]
  },
  {
   "cell_type": "code",
   "execution_count": null,
   "metadata": {},
   "outputs": [],
   "source": [
    "lee.hello()\t\t\t\t\t\t# lee 객체에서 message 클래스의 hello(), bye() 메소드 호출\n",
    "lee.bye()"
   ]
  }
 ],
 "metadata": {
  "interpreter": {
   "hash": "ac59ebe37160ed0dfa835113d9b8498d9f09ceb179beaac4002f036b9467c963"
  },
  "kernelspec": {
   "display_name": "Python 3 (ipykernel)",
   "language": "python",
   "name": "python3"
  },
  "language_info": {
   "codemirror_mode": {
    "name": "ipython",
    "version": 3
   },
   "file_extension": ".py",
   "mimetype": "text/x-python",
   "name": "python",
   "nbconvert_exporter": "python",
   "pygments_lexer": "ipython3",
   "version": "3.10.4"
  }
 },
 "nbformat": 4,
 "nbformat_minor": 4
}
